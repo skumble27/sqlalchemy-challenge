{
 "metadata": {
  "language_info": {
   "codemirror_mode": {
    "name": "ipython",
    "version": 3
   },
   "file_extension": ".py",
   "mimetype": "text/x-python",
   "name": "python",
   "nbconvert_exporter": "python",
   "pygments_lexer": "ipython3",
   "version": 3
  },
  "orig_nbformat": 2
 },
 "nbformat": 4,
 "nbformat_minor": 2,
 "cells": [
  {
   "cell_type": "code",
   "execution_count": null,
   "metadata": {},
   "outputs": [],
   "source": [
    "\n",
    "sel1 = [func.min(Measurement.tobs), func.max(Measurement.tobs),func.avg(Measurement.tobs)]\n",
    "\n",
    "active_station_analysis = session.query(*sel1).\\\n",
    "    group_by(Measurement.station).\\\n",
    "        order_by(func.count(Measurement.station).desc()).first()\n",
    "\n",
    "\n",
    "print(f'The Lowest Recorded Temperature is {active_station_analysis[0]}\\n\\nThe Maximum Recorded Temperature is {active_station_analysis[1]}\\n\\nThe Average Temperature for Station {max(active_station_count)[0]} is {round(active_station_analysis[2],2)}')"
   ]
  }
 ]
}