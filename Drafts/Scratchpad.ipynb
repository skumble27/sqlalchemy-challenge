{
 "metadata": {
  "language_info": {
   "codemirror_mode": {
    "name": "ipython",
    "version": 3
   },
   "file_extension": ".py",
   "mimetype": "text/x-python",
   "name": "python",
   "nbconvert_exporter": "python",
   "pygments_lexer": "ipython3",
   "version": "3.6.12-final"
  },
  "orig_nbformat": 2,
  "kernelspec": {
   "name": "Python 3.6.12 64-bit ('BootCampMonash': conda)",
   "display_name": "Python 3.6.12 64-bit ('BootCampMonash': conda)",
   "metadata": {
    "interpreter": {
     "hash": "6858991ae45970477c979e20bd003b285324046a59fb015a65b3ffb3c3b75fd3"
    }
   }
  }
 },
 "nbformat": 4,
 "nbformat_minor": 2,
 "cells": [
  {
   "cell_type": "code",
   "execution_count": 1,
   "metadata": {},
   "outputs": [],
   "source": [
    "import pandas as pd\n",
    "import numpy \n",
    "import mat"
   ]
  },
  {
   "cell_type": "code",
   "execution_count": 1,
   "metadata": {},
   "outputs": [
    {
     "output_type": "error",
     "ename": "NameError",
     "evalue": "name 'func' is not defined",
     "traceback": [
      "\u001b[1;31m---------------------------------------------------------------------------\u001b[0m",
      "\u001b[1;31mNameError\u001b[0m                                 Traceback (most recent call last)",
      "\u001b[1;32m<ipython-input-1-40650a1c9686>\u001b[0m in \u001b[0;36m<module>\u001b[1;34m\u001b[0m\n\u001b[1;32m----> 1\u001b[1;33m \u001b[0msel1\u001b[0m \u001b[1;33m=\u001b[0m \u001b[1;33m[\u001b[0m\u001b[0mfunc\u001b[0m\u001b[1;33m.\u001b[0m\u001b[0mmin\u001b[0m\u001b[1;33m(\u001b[0m\u001b[0mMeasurement\u001b[0m\u001b[1;33m.\u001b[0m\u001b[0mtobs\u001b[0m\u001b[1;33m)\u001b[0m\u001b[1;33m,\u001b[0m \u001b[0mfunc\u001b[0m\u001b[1;33m.\u001b[0m\u001b[0mmax\u001b[0m\u001b[1;33m(\u001b[0m\u001b[0mMeasurement\u001b[0m\u001b[1;33m.\u001b[0m\u001b[0mtobs\u001b[0m\u001b[1;33m)\u001b[0m\u001b[1;33m,\u001b[0m\u001b[0mfunc\u001b[0m\u001b[1;33m.\u001b[0m\u001b[0mavg\u001b[0m\u001b[1;33m(\u001b[0m\u001b[0mMeasurement\u001b[0m\u001b[1;33m.\u001b[0m\u001b[0mtobs\u001b[0m\u001b[1;33m)\u001b[0m\u001b[1;33m]\u001b[0m\u001b[1;33m\u001b[0m\u001b[1;33m\u001b[0m\u001b[0m\n\u001b[0m\u001b[0;32m      2\u001b[0m \u001b[1;33m\u001b[0m\u001b[0m\n\u001b[0;32m      3\u001b[0m \u001b[0mactive_station_analysis\u001b[0m \u001b[1;33m=\u001b[0m \u001b[0msession\u001b[0m\u001b[1;33m.\u001b[0m\u001b[0mquery\u001b[0m\u001b[1;33m(\u001b[0m\u001b[1;33m*\u001b[0m\u001b[0msel1\u001b[0m\u001b[1;33m)\u001b[0m\u001b[1;33m.\u001b[0m\u001b[0;31m\\\u001b[0m\u001b[1;33m\u001b[0m\u001b[1;33m\u001b[0m\u001b[0m\n\u001b[0;32m      4\u001b[0m     \u001b[0mgroup_by\u001b[0m\u001b[1;33m(\u001b[0m\u001b[0mMeasurement\u001b[0m\u001b[1;33m.\u001b[0m\u001b[0mstation\u001b[0m\u001b[1;33m)\u001b[0m\u001b[1;33m.\u001b[0m\u001b[0;31m\\\u001b[0m\u001b[1;33m\u001b[0m\u001b[1;33m\u001b[0m\u001b[0m\n\u001b[0;32m      5\u001b[0m         \u001b[0morder_by\u001b[0m\u001b[1;33m(\u001b[0m\u001b[0mfunc\u001b[0m\u001b[1;33m.\u001b[0m\u001b[0mcount\u001b[0m\u001b[1;33m(\u001b[0m\u001b[0mMeasurement\u001b[0m\u001b[1;33m.\u001b[0m\u001b[0mstation\u001b[0m\u001b[1;33m)\u001b[0m\u001b[1;33m.\u001b[0m\u001b[0mdesc\u001b[0m\u001b[1;33m(\u001b[0m\u001b[1;33m)\u001b[0m\u001b[1;33m)\u001b[0m\u001b[1;33m.\u001b[0m\u001b[0mfirst\u001b[0m\u001b[1;33m(\u001b[0m\u001b[1;33m)\u001b[0m\u001b[1;33m\u001b[0m\u001b[1;33m\u001b[0m\u001b[0m\n",
      "\u001b[1;31mNameError\u001b[0m: name 'func' is not defined"
     ]
    }
   ],
   "source": [
    "\n",
    "sel1 = [func.min(Measurement.tobs), func.max(Measurement.tobs),func.avg(Measurement.tobs)]\n",
    "\n",
    "active_station_analysis = session.query(*sel1).\\\n",
    "    group_by(Measurement.station).\\\n",
    "        order_by(func.count(Measurement.station).desc()).first()\n",
    "\n",
    "\n",
    "print(f'The Lowest Recorded Temperature is {active_station_analysis[0]}\\n\\nThe Maximum Recorded Temperature is {active_station_analysis[1]}\\n\\nThe Average Temperature for Station {max(active_station_count)[0]} is {round(active_station_analysis[2],2)}')"
   ]
  },
  {
   "cell_type": "code",
   "execution_count": 2,
   "metadata": {},
   "outputs": [],
   "source": [
    "import numpy as np"
   ]
  },
  {
   "cell_type": "code",
   "execution_count": 13,
   "metadata": {},
   "outputs": [
    {
     "output_type": "execute_result",
     "data": {
      "text/plain": [
       "array([25, 79, 34, 45])"
      ]
     },
     "metadata": {},
     "execution_count": 13
    }
   ],
   "source": [
    "a = [[25], [79], [34], [45]]\n",
    "a\n",
    "\n",
    "a = np.ravel(a)\n",
    "a"
   ]
  },
  {
   "cell_type": "code",
   "execution_count": null,
   "metadata": {},
   "outputs": [],
   "source": [
    "# Using an interval of five years\n",
    "    query_date = dt.date(formatted_random_start_date.year + 5, formatted_random_start_date.month, formatted_random_start_date.day)\n",
    "\n",
    "    if query_date > int(dt.date(last_date_dt)):\n",
    "        return f'No data available beyond {query_date}'\n",
    "    else:\n",
    "        pass"
   ]
  },
  {
   "cell_type": "code",
   "execution_count": null,
   "metadata": {},
   "outputs": [],
   "source": [
    "if query_date > int(dt.date(last_date_dt)):\n",
    "        return f'No data available beyond {query_date}'\n",
    "    else:\n",
    "        pass\n"
   ]
  },
  {
   "cell_type": "code",
   "execution_count": 8,
   "metadata": {},
   "outputs": [],
   "source": [
    "import pandas as pd\n",
    "from datetime import datetime"
   ]
  },
  {
   "cell_type": "code",
   "execution_count": 9,
   "metadata": {},
   "outputs": [
    {
     "output_type": "execute_result",
     "data": {
      "text/plain": [
       "[Timestamp('2020-10-29 17:15:26.712419', freq='D'),\n",
       " Timestamp('2020-10-30 17:15:26.712419', freq='D'),\n",
       " Timestamp('2020-10-31 17:15:26.712419', freq='D'),\n",
       " Timestamp('2020-11-01 17:15:26.712419', freq='D'),\n",
       " Timestamp('2020-11-02 17:15:26.712419', freq='D'),\n",
       " Timestamp('2020-11-03 17:15:26.712419', freq='D'),\n",
       " Timestamp('2020-11-04 17:15:26.712419', freq='D'),\n",
       " Timestamp('2020-11-05 17:15:26.712419', freq='D'),\n",
       " Timestamp('2020-11-06 17:15:26.712419', freq='D'),\n",
       " Timestamp('2020-11-07 17:15:26.712419', freq='D'),\n",
       " Timestamp('2020-11-08 17:15:26.712419', freq='D'),\n",
       " Timestamp('2020-11-09 17:15:26.712419', freq='D'),\n",
       " Timestamp('2020-11-10 17:15:26.712419', freq='D'),\n",
       " Timestamp('2020-11-11 17:15:26.712419', freq='D'),\n",
       " Timestamp('2020-11-12 17:15:26.712419', freq='D'),\n",
       " Timestamp('2020-11-13 17:15:26.712419', freq='D'),\n",
       " Timestamp('2020-11-14 17:15:26.712419', freq='D'),\n",
       " Timestamp('2020-11-15 17:15:26.712419', freq='D'),\n",
       " Timestamp('2020-11-16 17:15:26.712419', freq='D'),\n",
       " Timestamp('2020-11-17 17:15:26.712419', freq='D'),\n",
       " Timestamp('2020-11-18 17:15:26.712419', freq='D'),\n",
       " Timestamp('2020-11-19 17:15:26.712419', freq='D'),\n",
       " Timestamp('2020-11-20 17:15:26.712419', freq='D'),\n",
       " Timestamp('2020-11-21 17:15:26.712419', freq='D'),\n",
       " Timestamp('2020-11-22 17:15:26.712419', freq='D'),\n",
       " Timestamp('2020-11-23 17:15:26.712419', freq='D'),\n",
       " Timestamp('2020-11-24 17:15:26.712419', freq='D'),\n",
       " Timestamp('2020-11-25 17:15:26.712419', freq='D'),\n",
       " Timestamp('2020-11-26 17:15:26.712419', freq='D'),\n",
       " Timestamp('2020-11-27 17:15:26.712419', freq='D'),\n",
       " Timestamp('2020-11-28 17:15:26.712419', freq='D'),\n",
       " Timestamp('2020-11-29 17:15:26.712419', freq='D'),\n",
       " Timestamp('2020-11-30 17:15:26.712419', freq='D'),\n",
       " Timestamp('2020-12-01 17:15:26.712419', freq='D'),\n",
       " Timestamp('2020-12-02 17:15:26.712419', freq='D'),\n",
       " Timestamp('2020-12-03 17:15:26.712419', freq='D'),\n",
       " Timestamp('2020-12-04 17:15:26.712419', freq='D'),\n",
       " Timestamp('2020-12-05 17:15:26.712419', freq='D'),\n",
       " Timestamp('2020-12-06 17:15:26.712419', freq='D'),\n",
       " Timestamp('2020-12-07 17:15:26.712419', freq='D'),\n",
       " Timestamp('2020-12-08 17:15:26.712419', freq='D'),\n",
       " Timestamp('2020-12-09 17:15:26.712419', freq='D'),\n",
       " Timestamp('2020-12-10 17:15:26.712419', freq='D'),\n",
       " Timestamp('2020-12-11 17:15:26.712419', freq='D'),\n",
       " Timestamp('2020-12-12 17:15:26.712419', freq='D'),\n",
       " Timestamp('2020-12-13 17:15:26.712419', freq='D'),\n",
       " Timestamp('2020-12-14 17:15:26.712419', freq='D'),\n",
       " Timestamp('2020-12-15 17:15:26.712419', freq='D'),\n",
       " Timestamp('2020-12-16 17:15:26.712419', freq='D'),\n",
       " Timestamp('2020-12-17 17:15:26.712419', freq='D'),\n",
       " Timestamp('2020-12-18 17:15:26.712419', freq='D'),\n",
       " Timestamp('2020-12-19 17:15:26.712419', freq='D'),\n",
       " Timestamp('2020-12-20 17:15:26.712419', freq='D'),\n",
       " Timestamp('2020-12-21 17:15:26.712419', freq='D'),\n",
       " Timestamp('2020-12-22 17:15:26.712419', freq='D'),\n",
       " Timestamp('2020-12-23 17:15:26.712419', freq='D'),\n",
       " Timestamp('2020-12-24 17:15:26.712419', freq='D'),\n",
       " Timestamp('2020-12-25 17:15:26.712419', freq='D'),\n",
       " Timestamp('2020-12-26 17:15:26.712419', freq='D'),\n",
       " Timestamp('2020-12-27 17:15:26.712419', freq='D'),\n",
       " Timestamp('2020-12-28 17:15:26.712419', freq='D'),\n",
       " Timestamp('2020-12-29 17:15:26.712419', freq='D'),\n",
       " Timestamp('2020-12-30 17:15:26.712419', freq='D'),\n",
       " Timestamp('2020-12-31 17:15:26.712419', freq='D'),\n",
       " Timestamp('2021-01-01 17:15:26.712419', freq='D'),\n",
       " Timestamp('2021-01-02 17:15:26.712419', freq='D'),\n",
       " Timestamp('2021-01-03 17:15:26.712419', freq='D'),\n",
       " Timestamp('2021-01-04 17:15:26.712419', freq='D'),\n",
       " Timestamp('2021-01-05 17:15:26.712419', freq='D'),\n",
       " Timestamp('2021-01-06 17:15:26.712419', freq='D'),\n",
       " Timestamp('2021-01-07 17:15:26.712419', freq='D'),\n",
       " Timestamp('2021-01-08 17:15:26.712419', freq='D'),\n",
       " Timestamp('2021-01-09 17:15:26.712419', freq='D'),\n",
       " Timestamp('2021-01-10 17:15:26.712419', freq='D'),\n",
       " Timestamp('2021-01-11 17:15:26.712419', freq='D'),\n",
       " Timestamp('2021-01-12 17:15:26.712419', freq='D'),\n",
       " Timestamp('2021-01-13 17:15:26.712419', freq='D'),\n",
       " Timestamp('2021-01-14 17:15:26.712419', freq='D'),\n",
       " Timestamp('2021-01-15 17:15:26.712419', freq='D'),\n",
       " Timestamp('2021-01-16 17:15:26.712419', freq='D'),\n",
       " Timestamp('2021-01-17 17:15:26.712419', freq='D'),\n",
       " Timestamp('2021-01-18 17:15:26.712419', freq='D'),\n",
       " Timestamp('2021-01-19 17:15:26.712419', freq='D'),\n",
       " Timestamp('2021-01-20 17:15:26.712419', freq='D'),\n",
       " Timestamp('2021-01-21 17:15:26.712419', freq='D'),\n",
       " Timestamp('2021-01-22 17:15:26.712419', freq='D'),\n",
       " Timestamp('2021-01-23 17:15:26.712419', freq='D'),\n",
       " Timestamp('2021-01-24 17:15:26.712419', freq='D'),\n",
       " Timestamp('2021-01-25 17:15:26.712419', freq='D'),\n",
       " Timestamp('2021-01-26 17:15:26.712419', freq='D'),\n",
       " Timestamp('2021-01-27 17:15:26.712419', freq='D'),\n",
       " Timestamp('2021-01-28 17:15:26.712419', freq='D'),\n",
       " Timestamp('2021-01-29 17:15:26.712419', freq='D'),\n",
       " Timestamp('2021-01-30 17:15:26.712419', freq='D'),\n",
       " Timestamp('2021-01-31 17:15:26.712419', freq='D'),\n",
       " Timestamp('2021-02-01 17:15:26.712419', freq='D'),\n",
       " Timestamp('2021-02-02 17:15:26.712419', freq='D'),\n",
       " Timestamp('2021-02-03 17:15:26.712419', freq='D'),\n",
       " Timestamp('2021-02-04 17:15:26.712419', freq='D'),\n",
       " Timestamp('2021-02-05 17:15:26.712419', freq='D')]"
      ]
     },
     "metadata": {},
     "execution_count": 9
    }
   ],
   "source": [
    "datelist = pd.date_range(datetime.today(), periods=100).tolist()\n",
    "datelist = date"
   ]
  },
  {
   "cell_type": "code",
   "execution_count": 24,
   "metadata": {},
   "outputs": [],
   "source": [
    "import pandas as pd\n",
    "import numpy as np\n",
    "date1 = '2011-05-03'\n",
    "date2 = '2011-05-10'\n",
    "mydates = pd.date_range(date1, date2).tolist()"
   ]
  },
  {
   "cell_type": "code",
   "execution_count": 11,
   "metadata": {},
   "outputs": [
    {
     "output_type": "execute_result",
     "data": {
      "text/plain": [
       "[Timestamp('2011-05-03 00:00:00', freq='D'),\n",
       " Timestamp('2011-05-04 00:00:00', freq='D'),\n",
       " Timestamp('2011-05-05 00:00:00', freq='D'),\n",
       " Timestamp('2011-05-06 00:00:00', freq='D'),\n",
       " Timestamp('2011-05-07 00:00:00', freq='D'),\n",
       " Timestamp('2011-05-08 00:00:00', freq='D'),\n",
       " Timestamp('2011-05-09 00:00:00', freq='D'),\n",
       " Timestamp('2011-05-10 00:00:00', freq='D')]"
      ]
     },
     "metadata": {},
     "execution_count": 11
    }
   ],
   "source": [
    "mydates"
   ]
  },
  {
   "cell_type": "code",
   "execution_count": 34,
   "metadata": {},
   "outputs": [
    {
     "output_type": "stream",
     "name": "stdout",
     "text": [
      "2011-05-03\n2011-05-04\n2011-05-05\n2011-05-06\n2011-05-07\n2011-05-08\n2011-05-09\n2011-05-10\n"
     ]
    }
   ],
   "source": [
    "import datetime\n",
    "date1 = '2011-05-03'\n",
    "date2 = '2011-05-10'\n",
    "start = datetime.datetime.strptime(date1, '%Y-%m-%d')\n",
    "end = datetime.datetime.strptime(date2, '%Y-%m-%d')\n",
    "step = datetime.timedelta(days=1)\n",
    "\n",
    "datelist = []\n",
    "\n",
    "while start <= end:\n",
    "    print (start.date())\n",
    "    datelist.append(start)\n",
    "    start += step\n",
    "    "
   ]
  },
  {
   "cell_type": "code",
   "execution_count": 33,
   "metadata": {},
   "outputs": [
    {
     "output_type": "execute_result",
     "data": {
      "text/plain": [
       "dict"
      ]
     },
     "metadata": {},
     "execution_count": 33
    }
   ],
   "source": [
    "type(datelist)"
   ]
  },
  {
   "cell_type": "code",
   "execution_count": 30,
   "metadata": {},
   "outputs": [
    {
     "output_type": "execute_result",
     "data": {
      "text/plain": [
       "[datetime.datetime(2011, 5, 3, 0, 0),\n",
       " datetime.datetime(2011, 5, 4, 0, 0),\n",
       " datetime.datetime(2011, 5, 5, 0, 0),\n",
       " datetime.datetime(2011, 5, 6, 0, 0),\n",
       " datetime.datetime(2011, 5, 7, 0, 0),\n",
       " datetime.datetime(2011, 5, 8, 0, 0),\n",
       " datetime.datetime(2011, 5, 9, 0, 0),\n",
       " datetime.datetime(2011, 5, 10, 0, 0)]"
      ]
     },
     "metadata": {},
     "execution_count": 30
    }
   ],
   "source": [
    "datelist"
   ]
  },
  {
   "cell_type": "code",
   "execution_count": 35,
   "metadata": {},
   "outputs": [],
   "source": [
    "import pandas as pd\n",
    "date1 = '2011-05-03'\n",
    "date2 = '2011-05-10'\n",
    "mydates = pd.date_range(date1, date2).tolist()"
   ]
  },
  {
   "cell_type": "code",
   "execution_count": 36,
   "metadata": {},
   "outputs": [
    {
     "output_type": "execute_result",
     "data": {
      "text/plain": [
       "[Timestamp('2011-05-03 00:00:00', freq='D'),\n",
       " Timestamp('2011-05-04 00:00:00', freq='D'),\n",
       " Timestamp('2011-05-05 00:00:00', freq='D'),\n",
       " Timestamp('2011-05-06 00:00:00', freq='D'),\n",
       " Timestamp('2011-05-07 00:00:00', freq='D'),\n",
       " Timestamp('2011-05-08 00:00:00', freq='D'),\n",
       " Timestamp('2011-05-09 00:00:00', freq='D'),\n",
       " Timestamp('2011-05-10 00:00:00', freq='D')]"
      ]
     },
     "metadata": {},
     "execution_count": 36
    }
   ],
   "source": [
    "mydates"
   ]
  },
  {
   "cell_type": "code",
   "execution_count": null,
   "metadata": {},
   "outputs": [],
   "source": []
  }
 ]
}