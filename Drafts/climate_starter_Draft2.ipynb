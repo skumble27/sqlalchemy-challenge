{
 "cells": [
  {
   "cell_type": "code",
   "execution_count": 1,
   "metadata": {},
   "outputs": [],
   "source": [
    "%matplotlib inline\n",
    "from matplotlib import style\n",
    "style.use('fivethirtyeight')\n",
    "import matplotlib.pyplot as plt"
   ]
  },
  {
   "cell_type": "code",
   "execution_count": 2,
   "metadata": {},
   "outputs": [],
   "source": [
    "import numpy as np\n",
    "import pandas as pd"
   ]
  },
  {
   "cell_type": "code",
   "execution_count": 3,
   "metadata": {},
   "outputs": [],
   "source": [
    "import datetime as dt"
   ]
  },
  {
   "cell_type": "markdown",
   "metadata": {},
   "source": [
    "# Reflect Tables into SQLAlchemy ORM"
   ]
  },
  {
   "cell_type": "code",
   "execution_count": 4,
   "metadata": {},
   "outputs": [],
   "source": [
    "# Python SQL toolkit and Object Relational Mapper\n",
    "import sqlalchemy\n",
    "from sqlalchemy.ext.automap import automap_base\n",
    "from sqlalchemy.orm import Session\n",
    "from sqlalchemy import create_engine, func, inspect"
   ]
  },
  {
   "cell_type": "code",
   "execution_count": 5,
   "metadata": {},
   "outputs": [],
   "source": [
    "engine = create_engine(\"sqlite:///../Resources/hawaii.sqlite\")"
   ]
  },
  {
   "cell_type": "code",
   "execution_count": 6,
   "metadata": {},
   "outputs": [],
   "source": [
    "# reflect an existing database into a new model'\n",
    "Base = automap_base()\n",
    "\n",
    "# reflect the tables\n",
    "Base.prepare(engine, reflect=True)"
   ]
  },
  {
   "cell_type": "code",
   "execution_count": 7,
   "metadata": {},
   "outputs": [
    {
     "output_type": "execute_result",
     "data": {
      "text/plain": [
       "['measurement', 'station']"
      ]
     },
     "metadata": {},
     "execution_count": 7
    }
   ],
   "source": [
    "# We can view all of the classes that automap found\n",
    "Base.classes.keys()"
   ]
  },
  {
   "cell_type": "code",
   "execution_count": 8,
   "metadata": {},
   "outputs": [],
   "source": [
    "# Save references to each table\n",
    "Measurement = Base.classes.measurement\n",
    "\n",
    "Station = Base.classes.station\n"
   ]
  },
  {
   "cell_type": "code",
   "execution_count": 9,
   "metadata": {},
   "outputs": [],
   "source": [
    "# Create our session (link) from Python to the DB\n",
    "session = Session(engine)\n"
   ]
  },
  {
   "cell_type": "code",
   "execution_count": 10,
   "metadata": {},
   "outputs": [],
   "source": [
    "# Creating an inspector to explore the columns\n",
    "inspector = inspect(engine)"
   ]
  },
  {
   "cell_type": "markdown",
   "metadata": {},
   "source": [
    "# Exploratory Climate Analysis"
   ]
  },
  {
   "source": [
    "#### Inspecting the columns within the two tables\n"
   ],
   "cell_type": "markdown",
   "metadata": {}
  },
  {
   "cell_type": "code",
   "execution_count": 11,
   "metadata": {},
   "outputs": [
    {
     "output_type": "stream",
     "name": "stdout",
     "text": [
      "id INTEGER\nstation TEXT\ndate TEXT\nprcp FLOAT\ntobs FLOAT\n"
     ]
    }
   ],
   "source": [
    "# Columns in the Measurement Table\n",
    "Measurement_Columns = inspector.get_columns('Measurement')\n",
    "\n",
    "# For loop to print the columns\n",
    "for column_measure in Measurement_Columns:\n",
    "    print(column_measure['name'], column_measure['type'])"
   ]
  },
  {
   "cell_type": "code",
   "execution_count": 12,
   "metadata": {},
   "outputs": [
    {
     "output_type": "stream",
     "name": "stdout",
     "text": [
      "id INTEGER\nstation TEXT\nname TEXT\nlatitude FLOAT\nlongitude FLOAT\nelevation FLOAT\n"
     ]
    }
   ],
   "source": [
    "# Columns in the Station Table\n",
    "Station_Columns = inspector.get_columns('Station')\n",
    "\n",
    "# For loop to print the columns\n",
    "for column_station in Station_Columns:\n",
    "    print(column_station['name'], column_station['type'])"
   ]
  },
  {
   "source": [
    "#### Design a query to retrieve the last 12 months of precipitation data and plot the results"
   ],
   "cell_type": "markdown",
   "metadata": {}
  },
  {
   "cell_type": "code",
   "execution_count": 13,
   "metadata": {},
   "outputs": [
    {
     "output_type": "execute_result",
     "data": {
      "text/plain": [
       "(19550)"
      ]
     },
     "metadata": {},
     "execution_count": 13
    }
   ],
   "source": [
    "# Determining the Entire Timeframe\n",
    "total_time_frame = session.query(func.count(Measurement.date)).all()\n",
    "total_time_frame[0]"
   ]
  },
  {
   "cell_type": "code",
   "execution_count": 14,
   "metadata": {},
   "outputs": [],
   "source": [
    "# Determining the Starting Date\n",
    "start_date = session.query(Measurement.date).\\\n",
    "    order_by(Measurement.date).\\\n",
    "        first()"
   ]
  },
  {
   "cell_type": "code",
   "execution_count": 15,
   "metadata": {},
   "outputs": [],
   "source": [
    "# Determining the Last Date\n",
    "last_date = session.query(Measurement.date).\\\n",
    "    order_by(Measurement.date.desc()).\\\n",
    "        first()"
   ]
  },
  {
   "cell_type": "code",
   "execution_count": 16,
   "metadata": {},
   "outputs": [
    {
     "output_type": "stream",
     "name": "stdout",
     "text": [
      " The Starting Date is 2010-01-01 and the Last Date is 2017-08-23\n"
     ]
    }
   ],
   "source": [
    "# Start and Finish Date of Record Keeping\n",
    "print(f' The Starting Date is {start_date[0]} and the Last Date is {last_date[0]}')"
   ]
  },
  {
   "cell_type": "code",
   "execution_count": 17,
   "metadata": {},
   "outputs": [],
   "source": [
    "# Obtaining the Last Twelve Months of Precipitation\n",
    "last_date_dt = dt.datetime.strptime(last_date[0],'%Y-%m-%d')\n"
   ]
  },
  {
   "cell_type": "code",
   "execution_count": 18,
   "metadata": {},
   "outputs": [
    {
     "output_type": "execute_result",
     "data": {
      "text/plain": [
       "datetime.date(2016, 8, 23)"
      ]
     },
     "metadata": {},
     "execution_count": 18
    }
   ],
   "source": [
    "# Calculate the date 1 year ago from the last data point in the database - This will assist in obtaining all the data from this timepoint\n",
    "query_date = dt.date(last_date_dt.year -1, last_date_dt.month, last_date_dt.day)\n",
    "query_date"
   ]
  },
  {
   "cell_type": "code",
   "execution_count": 19,
   "metadata": {},
   "outputs": [],
   "source": [
    "# Perform a query to retrieve the data and precipitation scores\n",
    "sel = [Measurement.date, Measurement.prcp]\n",
    "\n",
    "precipitation_query = session.query(*sel).filter(Measurement.date >= query_date).all()"
   ]
  },
  {
   "cell_type": "code",
   "execution_count": 20,
   "metadata": {},
   "outputs": [
    {
     "output_type": "execute_result",
     "data": {
      "text/plain": [
       "            Precipitation\n",
       "Date                     \n",
       "2016-08-23           0.00\n",
       "2016-08-24           0.08\n",
       "2016-08-25           0.08\n",
       "2016-08-26           0.00\n",
       "2016-08-27           0.00"
      ],
      "text/html": "<div>\n<style scoped>\n    .dataframe tbody tr th:only-of-type {\n        vertical-align: middle;\n    }\n\n    .dataframe tbody tr th {\n        vertical-align: top;\n    }\n\n    .dataframe thead th {\n        text-align: right;\n    }\n</style>\n<table border=\"1\" class=\"dataframe\">\n  <thead>\n    <tr style=\"text-align: right;\">\n      <th></th>\n      <th>Precipitation</th>\n    </tr>\n    <tr>\n      <th>Date</th>\n      <th></th>\n    </tr>\n  </thead>\n  <tbody>\n    <tr>\n      <th>2016-08-23</th>\n      <td>0.00</td>\n    </tr>\n    <tr>\n      <th>2016-08-24</th>\n      <td>0.08</td>\n    </tr>\n    <tr>\n      <th>2016-08-25</th>\n      <td>0.08</td>\n    </tr>\n    <tr>\n      <th>2016-08-26</th>\n      <td>0.00</td>\n    </tr>\n    <tr>\n      <th>2016-08-27</th>\n      <td>0.00</td>\n    </tr>\n  </tbody>\n</table>\n</div>"
     },
     "metadata": {},
     "execution_count": 20
    }
   ],
   "source": [
    "# Save the query results as a Pandas DataFrame and set the index to the date column\n",
    "twelve_month_prcp = pd.DataFrame(precipitation_query, columns=['Date', 'Precipitation'])\n",
    "\n",
    "twelve_month_prcp.set_index('Date', inplace=True)\n",
    "twelve_month_prcp.head()\n"
   ]
  },
  {
   "cell_type": "code",
   "execution_count": 21,
   "metadata": {},
   "outputs": [
    {
     "output_type": "execute_result",
     "data": {
      "text/plain": [
       "            Precipitation\n",
       "Date                     \n",
       "2016-08-23           0.00\n",
       "2016-08-23            NaN\n",
       "2016-08-23           1.79\n",
       "2016-08-23           0.05\n",
       "2016-08-23           0.15\n",
       "...                   ...\n",
       "2017-08-22           0.00\n",
       "2017-08-23           0.00\n",
       "2017-08-23           0.00\n",
       "2017-08-23           0.08\n",
       "2017-08-23           0.45\n",
       "\n",
       "[2230 rows x 1 columns]"
      ],
      "text/html": "<div>\n<style scoped>\n    .dataframe tbody tr th:only-of-type {\n        vertical-align: middle;\n    }\n\n    .dataframe tbody tr th {\n        vertical-align: top;\n    }\n\n    .dataframe thead th {\n        text-align: right;\n    }\n</style>\n<table border=\"1\" class=\"dataframe\">\n  <thead>\n    <tr style=\"text-align: right;\">\n      <th></th>\n      <th>Precipitation</th>\n    </tr>\n    <tr>\n      <th>Date</th>\n      <th></th>\n    </tr>\n  </thead>\n  <tbody>\n    <tr>\n      <th>2016-08-23</th>\n      <td>0.00</td>\n    </tr>\n    <tr>\n      <th>2016-08-23</th>\n      <td>NaN</td>\n    </tr>\n    <tr>\n      <th>2016-08-23</th>\n      <td>1.79</td>\n    </tr>\n    <tr>\n      <th>2016-08-23</th>\n      <td>0.05</td>\n    </tr>\n    <tr>\n      <th>2016-08-23</th>\n      <td>0.15</td>\n    </tr>\n    <tr>\n      <th>...</th>\n      <td>...</td>\n    </tr>\n    <tr>\n      <th>2017-08-22</th>\n      <td>0.00</td>\n    </tr>\n    <tr>\n      <th>2017-08-23</th>\n      <td>0.00</td>\n    </tr>\n    <tr>\n      <th>2017-08-23</th>\n      <td>0.00</td>\n    </tr>\n    <tr>\n      <th>2017-08-23</th>\n      <td>0.08</td>\n    </tr>\n    <tr>\n      <th>2017-08-23</th>\n      <td>0.45</td>\n    </tr>\n  </tbody>\n</table>\n<p>2230 rows × 1 columns</p>\n</div>"
     },
     "metadata": {},
     "execution_count": 21
    }
   ],
   "source": [
    "# Sort the dataframe by date\n",
    "twelve_month_prcp = twelve_month_prcp.sort_index(ascending=True)\n",
    "twelve_month_prcp"
   ]
  },
  {
   "cell_type": "code",
   "execution_count": 22,
   "metadata": {},
   "outputs": [
    {
     "output_type": "execute_result",
     "data": {
      "text/plain": [
       "            Precipitation\n",
       "Date                     \n",
       "2016-08-23           0.00\n",
       "2016-08-23           1.79\n",
       "2016-08-23           0.05\n",
       "2016-08-23           0.15\n",
       "2016-08-23           0.70\n",
       "...                   ...\n",
       "2017-08-22           0.00\n",
       "2017-08-23           0.00\n",
       "2017-08-23           0.00\n",
       "2017-08-23           0.08\n",
       "2017-08-23           0.45\n",
       "\n",
       "[2021 rows x 1 columns]"
      ],
      "text/html": "<div>\n<style scoped>\n    .dataframe tbody tr th:only-of-type {\n        vertical-align: middle;\n    }\n\n    .dataframe tbody tr th {\n        vertical-align: top;\n    }\n\n    .dataframe thead th {\n        text-align: right;\n    }\n</style>\n<table border=\"1\" class=\"dataframe\">\n  <thead>\n    <tr style=\"text-align: right;\">\n      <th></th>\n      <th>Precipitation</th>\n    </tr>\n    <tr>\n      <th>Date</th>\n      <th></th>\n    </tr>\n  </thead>\n  <tbody>\n    <tr>\n      <th>2016-08-23</th>\n      <td>0.00</td>\n    </tr>\n    <tr>\n      <th>2016-08-23</th>\n      <td>1.79</td>\n    </tr>\n    <tr>\n      <th>2016-08-23</th>\n      <td>0.05</td>\n    </tr>\n    <tr>\n      <th>2016-08-23</th>\n      <td>0.15</td>\n    </tr>\n    <tr>\n      <th>2016-08-23</th>\n      <td>0.70</td>\n    </tr>\n    <tr>\n      <th>...</th>\n      <td>...</td>\n    </tr>\n    <tr>\n      <th>2017-08-22</th>\n      <td>0.00</td>\n    </tr>\n    <tr>\n      <th>2017-08-23</th>\n      <td>0.00</td>\n    </tr>\n    <tr>\n      <th>2017-08-23</th>\n      <td>0.00</td>\n    </tr>\n    <tr>\n      <th>2017-08-23</th>\n      <td>0.08</td>\n    </tr>\n    <tr>\n      <th>2017-08-23</th>\n      <td>0.45</td>\n    </tr>\n  </tbody>\n</table>\n<p>2021 rows × 1 columns</p>\n</div>"
     },
     "metadata": {},
     "execution_count": 22
    }
   ],
   "source": [
    "# Removing the NaN values\n",
    "twelve_month_prcp = twelve_month_prcp.dropna(how='any')\n",
    "twelve_month_prcp"
   ]
  },
  {
   "cell_type": "code",
   "execution_count": 23,
   "metadata": {},
   "outputs": [
    {
     "output_type": "display_data",
     "data": {
      "text/plain": "<Figure size 720x720 with 1 Axes>",
      "image/svg+xml": "<?xml version=\"1.0\" encoding=\"utf-8\" standalone=\"no\"?>\r\n<!DOCTYPE svg PUBLIC \"-//W3C//DTD SVG 1.1//EN\"\r\n  \"http://www.w3.org/Graphics/SVG/1.1/DTD/svg11.dtd\">\r\n<!-- Created with matplotlib (https://matplotlib.org/) -->\r\n<svg height=\"718.237487pt\" version=\"1.1\" viewBox=\"0 0 686.433813 718.237487\" width=\"686.433813pt\" xmlns=\"http://www.w3.org/2000/svg\" xmlns:xlink=\"http://www.w3.org/1999/xlink\">\r\n <metadata>\r\n  <rdf:RDF xmlns:cc=\"http://creativecommons.org/ns#\" xmlns:dc=\"http://purl.org/dc/elements/1.1/\" xmlns:rdf=\"http://www.w3.org/1999/02/22-rdf-syntax-ns#\">\r\n   <cc:Work>\r\n    <dc:type rdf:resource=\"http://purl.org/dc/dcmitype/StillImage\"/>\r\n    <dc:date>2020-10-26T16:12:23.141949</dc:date>\r\n    <dc:format>image/svg+xml</dc:format>\r\n    <dc:creator>\r\n     <cc:Agent>\r\n      <dc:title>Matplotlib v3.3.2, https://matplotlib.org/</dc:title>\r\n     </cc:Agent>\r\n    </dc:creator>\r\n   </cc:Work>\r\n  </rdf:RDF>\r\n </metadata>\r\n <defs>\r\n  <style type=\"text/css\">*{stroke-linecap:butt;stroke-linejoin:round;}</style>\r\n </defs>\r\n <g id=\"figure_1\">\r\n  <g id=\"patch_1\">\r\n   <path d=\"M 0 718.237487 \r\nL 686.433813 718.237487 \r\nL 686.433813 0 \r\nL 0 0 \r\nz\r\n\" style=\"fill:#f0f0f0;\"/>\r\n  </g>\r\n  <g id=\"axes_1\">\r\n   <g id=\"patch_2\">\r\n    <path d=\"M 52.833813 592.9493 \r\nL 679.233812 592.9493 \r\nL 679.233812 9.7493 \r\nL 52.833813 9.7493 \r\nz\r\n\" style=\"fill:#f0f0f0;\"/>\r\n   </g>\r\n   <g id=\"matplotlib.axis_1\">\r\n    <g id=\"xtick_1\">\r\n     <g id=\"line2d_1\">\r\n      <path clip-path=\"url(#pd425cdf9fd)\" d=\"M 81.30654 592.9493 \r\nL 81.30654 9.7493 \r\n\" style=\"fill:none;stroke:#cbcbcb;\"/>\r\n     </g>\r\n     <g id=\"line2d_2\"/>\r\n     <g id=\"text_1\">\r\n      <!-- 2016-08-23 -->\r\n      <g transform=\"translate(85.169665 677.811175)rotate(-90)scale(0.14 -0.14)\">\r\n       <defs>\r\n        <path d=\"M 19.1875 8.296875 \r\nL 53.609375 8.296875 \r\nL 53.609375 0 \r\nL 7.328125 0 \r\nL 7.328125 8.296875 \r\nQ 12.9375 14.109375 22.625 23.890625 \r\nQ 32.328125 33.6875 34.8125 36.53125 \r\nQ 39.546875 41.84375 41.421875 45.53125 \r\nQ 43.3125 49.21875 43.3125 52.78125 \r\nQ 43.3125 58.59375 39.234375 62.25 \r\nQ 35.15625 65.921875 28.609375 65.921875 \r\nQ 23.96875 65.921875 18.8125 64.3125 \r\nQ 13.671875 62.703125 7.8125 59.421875 \r\nL 7.8125 69.390625 \r\nQ 13.765625 71.78125 18.9375 73 \r\nQ 24.125 74.21875 28.421875 74.21875 \r\nQ 39.75 74.21875 46.484375 68.546875 \r\nQ 53.21875 62.890625 53.21875 53.421875 \r\nQ 53.21875 48.921875 51.53125 44.890625 \r\nQ 49.859375 40.875 45.40625 35.40625 \r\nQ 44.1875 33.984375 37.640625 27.21875 \r\nQ 31.109375 20.453125 19.1875 8.296875 \r\nz\r\n\" id=\"DejaVuSans-50\"/>\r\n        <path d=\"M 31.78125 66.40625 \r\nQ 24.171875 66.40625 20.328125 58.90625 \r\nQ 16.5 51.421875 16.5 36.375 \r\nQ 16.5 21.390625 20.328125 13.890625 \r\nQ 24.171875 6.390625 31.78125 6.390625 \r\nQ 39.453125 6.390625 43.28125 13.890625 \r\nQ 47.125 21.390625 47.125 36.375 \r\nQ 47.125 51.421875 43.28125 58.90625 \r\nQ 39.453125 66.40625 31.78125 66.40625 \r\nz\r\nM 31.78125 74.21875 \r\nQ 44.046875 74.21875 50.515625 64.515625 \r\nQ 56.984375 54.828125 56.984375 36.375 \r\nQ 56.984375 17.96875 50.515625 8.265625 \r\nQ 44.046875 -1.421875 31.78125 -1.421875 \r\nQ 19.53125 -1.421875 13.0625 8.265625 \r\nQ 6.59375 17.96875 6.59375 36.375 \r\nQ 6.59375 54.828125 13.0625 64.515625 \r\nQ 19.53125 74.21875 31.78125 74.21875 \r\nz\r\n\" id=\"DejaVuSans-48\"/>\r\n        <path d=\"M 12.40625 8.296875 \r\nL 28.515625 8.296875 \r\nL 28.515625 63.921875 \r\nL 10.984375 60.40625 \r\nL 10.984375 69.390625 \r\nL 28.421875 72.90625 \r\nL 38.28125 72.90625 \r\nL 38.28125 8.296875 \r\nL 54.390625 8.296875 \r\nL 54.390625 0 \r\nL 12.40625 0 \r\nz\r\n\" id=\"DejaVuSans-49\"/>\r\n        <path d=\"M 33.015625 40.375 \r\nQ 26.375 40.375 22.484375 35.828125 \r\nQ 18.609375 31.296875 18.609375 23.390625 \r\nQ 18.609375 15.53125 22.484375 10.953125 \r\nQ 26.375 6.390625 33.015625 6.390625 \r\nQ 39.65625 6.390625 43.53125 10.953125 \r\nQ 47.40625 15.53125 47.40625 23.390625 \r\nQ 47.40625 31.296875 43.53125 35.828125 \r\nQ 39.65625 40.375 33.015625 40.375 \r\nz\r\nM 52.59375 71.296875 \r\nL 52.59375 62.3125 \r\nQ 48.875 64.0625 45.09375 64.984375 \r\nQ 41.3125 65.921875 37.59375 65.921875 \r\nQ 27.828125 65.921875 22.671875 59.328125 \r\nQ 17.53125 52.734375 16.796875 39.40625 \r\nQ 19.671875 43.65625 24.015625 45.921875 \r\nQ 28.375 48.1875 33.59375 48.1875 \r\nQ 44.578125 48.1875 50.953125 41.515625 \r\nQ 57.328125 34.859375 57.328125 23.390625 \r\nQ 57.328125 12.15625 50.6875 5.359375 \r\nQ 44.046875 -1.421875 33.015625 -1.421875 \r\nQ 20.359375 -1.421875 13.671875 8.265625 \r\nQ 6.984375 17.96875 6.984375 36.375 \r\nQ 6.984375 53.65625 15.1875 63.9375 \r\nQ 23.390625 74.21875 37.203125 74.21875 \r\nQ 40.921875 74.21875 44.703125 73.484375 \r\nQ 48.484375 72.75 52.59375 71.296875 \r\nz\r\n\" id=\"DejaVuSans-54\"/>\r\n        <path d=\"M 4.890625 31.390625 \r\nL 31.203125 31.390625 \r\nL 31.203125 23.390625 \r\nL 4.890625 23.390625 \r\nz\r\n\" id=\"DejaVuSans-45\"/>\r\n        <path d=\"M 31.78125 34.625 \r\nQ 24.75 34.625 20.71875 30.859375 \r\nQ 16.703125 27.09375 16.703125 20.515625 \r\nQ 16.703125 13.921875 20.71875 10.15625 \r\nQ 24.75 6.390625 31.78125 6.390625 \r\nQ 38.8125 6.390625 42.859375 10.171875 \r\nQ 46.921875 13.96875 46.921875 20.515625 \r\nQ 46.921875 27.09375 42.890625 30.859375 \r\nQ 38.875 34.625 31.78125 34.625 \r\nz\r\nM 21.921875 38.8125 \r\nQ 15.578125 40.375 12.03125 44.71875 \r\nQ 8.5 49.078125 8.5 55.328125 \r\nQ 8.5 64.0625 14.71875 69.140625 \r\nQ 20.953125 74.21875 31.78125 74.21875 \r\nQ 42.671875 74.21875 48.875 69.140625 \r\nQ 55.078125 64.0625 55.078125 55.328125 \r\nQ 55.078125 49.078125 51.53125 44.71875 \r\nQ 48 40.375 41.703125 38.8125 \r\nQ 48.828125 37.15625 52.796875 32.3125 \r\nQ 56.78125 27.484375 56.78125 20.515625 \r\nQ 56.78125 9.90625 50.3125 4.234375 \r\nQ 43.84375 -1.421875 31.78125 -1.421875 \r\nQ 19.734375 -1.421875 13.25 4.234375 \r\nQ 6.78125 9.90625 6.78125 20.515625 \r\nQ 6.78125 27.484375 10.78125 32.3125 \r\nQ 14.796875 37.15625 21.921875 38.8125 \r\nz\r\nM 18.3125 54.390625 \r\nQ 18.3125 48.734375 21.84375 45.5625 \r\nQ 25.390625 42.390625 31.78125 42.390625 \r\nQ 38.140625 42.390625 41.71875 45.5625 \r\nQ 45.3125 48.734375 45.3125 54.390625 \r\nQ 45.3125 60.0625 41.71875 63.234375 \r\nQ 38.140625 66.40625 31.78125 66.40625 \r\nQ 25.390625 66.40625 21.84375 63.234375 \r\nQ 18.3125 60.0625 18.3125 54.390625 \r\nz\r\n\" id=\"DejaVuSans-56\"/>\r\n        <path d=\"M 40.578125 39.3125 \r\nQ 47.65625 37.796875 51.625 33 \r\nQ 55.609375 28.21875 55.609375 21.1875 \r\nQ 55.609375 10.40625 48.1875 4.484375 \r\nQ 40.765625 -1.421875 27.09375 -1.421875 \r\nQ 22.515625 -1.421875 17.65625 -0.515625 \r\nQ 12.796875 0.390625 7.625 2.203125 \r\nL 7.625 11.71875 \r\nQ 11.71875 9.328125 16.59375 8.109375 \r\nQ 21.484375 6.890625 26.8125 6.890625 \r\nQ 36.078125 6.890625 40.9375 10.546875 \r\nQ 45.796875 14.203125 45.796875 21.1875 \r\nQ 45.796875 27.640625 41.28125 31.265625 \r\nQ 36.765625 34.90625 28.71875 34.90625 \r\nL 20.21875 34.90625 \r\nL 20.21875 43.015625 \r\nL 29.109375 43.015625 \r\nQ 36.375 43.015625 40.234375 45.921875 \r\nQ 44.09375 48.828125 44.09375 54.296875 \r\nQ 44.09375 59.90625 40.109375 62.90625 \r\nQ 36.140625 65.921875 28.71875 65.921875 \r\nQ 24.65625 65.921875 20.015625 65.03125 \r\nQ 15.375 64.15625 9.8125 62.3125 \r\nL 9.8125 71.09375 \r\nQ 15.4375 72.65625 20.34375 73.4375 \r\nQ 25.25 74.21875 29.59375 74.21875 \r\nQ 40.828125 74.21875 47.359375 69.109375 \r\nQ 53.90625 64.015625 53.90625 55.328125 \r\nQ 53.90625 49.265625 50.4375 45.09375 \r\nQ 46.96875 40.921875 40.578125 39.3125 \r\nz\r\n\" id=\"DejaVuSans-51\"/>\r\n       </defs>\r\n       <use xlink:href=\"#DejaVuSans-50\"/>\r\n       <use x=\"63.623047\" xlink:href=\"#DejaVuSans-48\"/>\r\n       <use x=\"127.246094\" xlink:href=\"#DejaVuSans-49\"/>\r\n       <use x=\"190.869141\" xlink:href=\"#DejaVuSans-54\"/>\r\n       <use x=\"254.492188\" xlink:href=\"#DejaVuSans-45\"/>\r\n       <use x=\"290.576172\" xlink:href=\"#DejaVuSans-48\"/>\r\n       <use x=\"354.199219\" xlink:href=\"#DejaVuSans-56\"/>\r\n       <use x=\"417.822266\" xlink:href=\"#DejaVuSans-45\"/>\r\n       <use x=\"453.90625\" xlink:href=\"#DejaVuSans-50\"/>\r\n       <use x=\"517.529297\" xlink:href=\"#DejaVuSans-51\"/>\r\n      </g>\r\n     </g>\r\n    </g>\r\n    <g id=\"xtick_2\">\r\n     <g id=\"line2d_3\">\r\n      <path clip-path=\"url(#pd425cdf9fd)\" d=\"M 151.783587 592.9493 \r\nL 151.783587 9.7493 \r\n\" style=\"fill:none;stroke:#cbcbcb;\"/>\r\n     </g>\r\n     <g id=\"line2d_4\"/>\r\n     <g id=\"text_2\">\r\n      <!-- 2016-10-05 -->\r\n      <g transform=\"translate(155.646712 677.811175)rotate(-90)scale(0.14 -0.14)\">\r\n       <defs>\r\n        <path d=\"M 10.796875 72.90625 \r\nL 49.515625 72.90625 \r\nL 49.515625 64.59375 \r\nL 19.828125 64.59375 \r\nL 19.828125 46.734375 \r\nQ 21.96875 47.46875 24.109375 47.828125 \r\nQ 26.265625 48.1875 28.421875 48.1875 \r\nQ 40.625 48.1875 47.75 41.5 \r\nQ 54.890625 34.8125 54.890625 23.390625 \r\nQ 54.890625 11.625 47.5625 5.09375 \r\nQ 40.234375 -1.421875 26.90625 -1.421875 \r\nQ 22.3125 -1.421875 17.546875 -0.640625 \r\nQ 12.796875 0.140625 7.71875 1.703125 \r\nL 7.71875 11.625 \r\nQ 12.109375 9.234375 16.796875 8.0625 \r\nQ 21.484375 6.890625 26.703125 6.890625 \r\nQ 35.15625 6.890625 40.078125 11.328125 \r\nQ 45.015625 15.765625 45.015625 23.390625 \r\nQ 45.015625 31 40.078125 35.4375 \r\nQ 35.15625 39.890625 26.703125 39.890625 \r\nQ 22.75 39.890625 18.8125 39.015625 \r\nQ 14.890625 38.140625 10.796875 36.28125 \r\nz\r\n\" id=\"DejaVuSans-53\"/>\r\n       </defs>\r\n       <use xlink:href=\"#DejaVuSans-50\"/>\r\n       <use x=\"63.623047\" xlink:href=\"#DejaVuSans-48\"/>\r\n       <use x=\"127.246094\" xlink:href=\"#DejaVuSans-49\"/>\r\n       <use x=\"190.869141\" xlink:href=\"#DejaVuSans-54\"/>\r\n       <use x=\"254.492188\" xlink:href=\"#DejaVuSans-45\"/>\r\n       <use x=\"290.576172\" xlink:href=\"#DejaVuSans-49\"/>\r\n       <use x=\"354.199219\" xlink:href=\"#DejaVuSans-48\"/>\r\n       <use x=\"417.822266\" xlink:href=\"#DejaVuSans-45\"/>\r\n       <use x=\"453.90625\" xlink:href=\"#DejaVuSans-48\"/>\r\n       <use x=\"517.529297\" xlink:href=\"#DejaVuSans-53\"/>\r\n      </g>\r\n     </g>\r\n    </g>\r\n    <g id=\"xtick_3\">\r\n     <g id=\"line2d_5\">\r\n      <path clip-path=\"url(#pd425cdf9fd)\" d=\"M 222.260635 592.9493 \r\nL 222.260635 9.7493 \r\n\" style=\"fill:none;stroke:#cbcbcb;\"/>\r\n     </g>\r\n     <g id=\"line2d_6\"/>\r\n     <g id=\"text_3\">\r\n      <!-- 2016-11-16 -->\r\n      <g transform=\"translate(226.12376 677.811175)rotate(-90)scale(0.14 -0.14)\">\r\n       <use xlink:href=\"#DejaVuSans-50\"/>\r\n       <use x=\"63.623047\" xlink:href=\"#DejaVuSans-48\"/>\r\n       <use x=\"127.246094\" xlink:href=\"#DejaVuSans-49\"/>\r\n       <use x=\"190.869141\" xlink:href=\"#DejaVuSans-54\"/>\r\n       <use x=\"254.492188\" xlink:href=\"#DejaVuSans-45\"/>\r\n       <use x=\"290.576172\" xlink:href=\"#DejaVuSans-49\"/>\r\n       <use x=\"354.199219\" xlink:href=\"#DejaVuSans-49\"/>\r\n       <use x=\"417.822266\" xlink:href=\"#DejaVuSans-45\"/>\r\n       <use x=\"453.90625\" xlink:href=\"#DejaVuSans-49\"/>\r\n       <use x=\"517.529297\" xlink:href=\"#DejaVuSans-54\"/>\r\n      </g>\r\n     </g>\r\n    </g>\r\n    <g id=\"xtick_4\">\r\n     <g id=\"line2d_7\">\r\n      <path clip-path=\"url(#pd425cdf9fd)\" d=\"M 292.737683 592.9493 \r\nL 292.737683 9.7493 \r\n\" style=\"fill:none;stroke:#cbcbcb;\"/>\r\n     </g>\r\n     <g id=\"line2d_8\"/>\r\n     <g id=\"text_4\">\r\n      <!-- 2016-12-31 -->\r\n      <g transform=\"translate(296.600808 677.811175)rotate(-90)scale(0.14 -0.14)\">\r\n       <use xlink:href=\"#DejaVuSans-50\"/>\r\n       <use x=\"63.623047\" xlink:href=\"#DejaVuSans-48\"/>\r\n       <use x=\"127.246094\" xlink:href=\"#DejaVuSans-49\"/>\r\n       <use x=\"190.869141\" xlink:href=\"#DejaVuSans-54\"/>\r\n       <use x=\"254.492188\" xlink:href=\"#DejaVuSans-45\"/>\r\n       <use x=\"290.576172\" xlink:href=\"#DejaVuSans-49\"/>\r\n       <use x=\"354.199219\" xlink:href=\"#DejaVuSans-50\"/>\r\n       <use x=\"417.822266\" xlink:href=\"#DejaVuSans-45\"/>\r\n       <use x=\"453.90625\" xlink:href=\"#DejaVuSans-51\"/>\r\n       <use x=\"517.529297\" xlink:href=\"#DejaVuSans-49\"/>\r\n      </g>\r\n     </g>\r\n    </g>\r\n    <g id=\"xtick_5\">\r\n     <g id=\"line2d_9\">\r\n      <path clip-path=\"url(#pd425cdf9fd)\" d=\"M 363.214731 592.9493 \r\nL 363.214731 9.7493 \r\n\" style=\"fill:none;stroke:#cbcbcb;\"/>\r\n     </g>\r\n     <g id=\"line2d_10\"/>\r\n     <g id=\"text_5\">\r\n      <!-- 2017-02-13 -->\r\n      <g transform=\"translate(367.077856 677.811175)rotate(-90)scale(0.14 -0.14)\">\r\n       <defs>\r\n        <path d=\"M 8.203125 72.90625 \r\nL 55.078125 72.90625 \r\nL 55.078125 68.703125 \r\nL 28.609375 0 \r\nL 18.3125 0 \r\nL 43.21875 64.59375 \r\nL 8.203125 64.59375 \r\nz\r\n\" id=\"DejaVuSans-55\"/>\r\n       </defs>\r\n       <use xlink:href=\"#DejaVuSans-50\"/>\r\n       <use x=\"63.623047\" xlink:href=\"#DejaVuSans-48\"/>\r\n       <use x=\"127.246094\" xlink:href=\"#DejaVuSans-49\"/>\r\n       <use x=\"190.869141\" xlink:href=\"#DejaVuSans-55\"/>\r\n       <use x=\"254.492188\" xlink:href=\"#DejaVuSans-45\"/>\r\n       <use x=\"290.576172\" xlink:href=\"#DejaVuSans-48\"/>\r\n       <use x=\"354.199219\" xlink:href=\"#DejaVuSans-50\"/>\r\n       <use x=\"417.822266\" xlink:href=\"#DejaVuSans-45\"/>\r\n       <use x=\"453.90625\" xlink:href=\"#DejaVuSans-49\"/>\r\n       <use x=\"517.529297\" xlink:href=\"#DejaVuSans-51\"/>\r\n      </g>\r\n     </g>\r\n    </g>\r\n    <g id=\"xtick_6\">\r\n     <g id=\"line2d_11\">\r\n      <path clip-path=\"url(#pd425cdf9fd)\" d=\"M 433.691778 592.9493 \r\nL 433.691778 9.7493 \r\n\" style=\"fill:none;stroke:#cbcbcb;\"/>\r\n     </g>\r\n     <g id=\"line2d_12\"/>\r\n     <g id=\"text_6\">\r\n      <!-- 2017-03-31 -->\r\n      <g transform=\"translate(437.554903 677.811175)rotate(-90)scale(0.14 -0.14)\">\r\n       <use xlink:href=\"#DejaVuSans-50\"/>\r\n       <use x=\"63.623047\" xlink:href=\"#DejaVuSans-48\"/>\r\n       <use x=\"127.246094\" xlink:href=\"#DejaVuSans-49\"/>\r\n       <use x=\"190.869141\" xlink:href=\"#DejaVuSans-55\"/>\r\n       <use x=\"254.492188\" xlink:href=\"#DejaVuSans-45\"/>\r\n       <use x=\"290.576172\" xlink:href=\"#DejaVuSans-48\"/>\r\n       <use x=\"354.199219\" xlink:href=\"#DejaVuSans-51\"/>\r\n       <use x=\"417.822266\" xlink:href=\"#DejaVuSans-45\"/>\r\n       <use x=\"453.90625\" xlink:href=\"#DejaVuSans-51\"/>\r\n       <use x=\"517.529297\" xlink:href=\"#DejaVuSans-49\"/>\r\n      </g>\r\n     </g>\r\n    </g>\r\n    <g id=\"xtick_7\">\r\n     <g id=\"line2d_13\">\r\n      <path clip-path=\"url(#pd425cdf9fd)\" d=\"M 504.168826 592.9493 \r\nL 504.168826 9.7493 \r\n\" style=\"fill:none;stroke:#cbcbcb;\"/>\r\n     </g>\r\n     <g id=\"line2d_14\"/>\r\n     <g id=\"text_7\">\r\n      <!-- 2017-05-14 -->\r\n      <g transform=\"translate(508.031951 677.811175)rotate(-90)scale(0.14 -0.14)\">\r\n       <defs>\r\n        <path d=\"M 37.796875 64.3125 \r\nL 12.890625 25.390625 \r\nL 37.796875 25.390625 \r\nz\r\nM 35.203125 72.90625 \r\nL 47.609375 72.90625 \r\nL 47.609375 25.390625 \r\nL 58.015625 25.390625 \r\nL 58.015625 17.1875 \r\nL 47.609375 17.1875 \r\nL 47.609375 0 \r\nL 37.796875 0 \r\nL 37.796875 17.1875 \r\nL 4.890625 17.1875 \r\nL 4.890625 26.703125 \r\nz\r\n\" id=\"DejaVuSans-52\"/>\r\n       </defs>\r\n       <use xlink:href=\"#DejaVuSans-50\"/>\r\n       <use x=\"63.623047\" xlink:href=\"#DejaVuSans-48\"/>\r\n       <use x=\"127.246094\" xlink:href=\"#DejaVuSans-49\"/>\r\n       <use x=\"190.869141\" xlink:href=\"#DejaVuSans-55\"/>\r\n       <use x=\"254.492188\" xlink:href=\"#DejaVuSans-45\"/>\r\n       <use x=\"290.576172\" xlink:href=\"#DejaVuSans-48\"/>\r\n       <use x=\"354.199219\" xlink:href=\"#DejaVuSans-53\"/>\r\n       <use x=\"417.822266\" xlink:href=\"#DejaVuSans-45\"/>\r\n       <use x=\"453.90625\" xlink:href=\"#DejaVuSans-49\"/>\r\n       <use x=\"517.529297\" xlink:href=\"#DejaVuSans-52\"/>\r\n      </g>\r\n     </g>\r\n    </g>\r\n    <g id=\"xtick_8\">\r\n     <g id=\"line2d_15\">\r\n      <path clip-path=\"url(#pd425cdf9fd)\" d=\"M 574.645874 592.9493 \r\nL 574.645874 9.7493 \r\n\" style=\"fill:none;stroke:#cbcbcb;\"/>\r\n     </g>\r\n     <g id=\"line2d_16\"/>\r\n     <g id=\"text_8\">\r\n      <!-- 2017-06-28 -->\r\n      <g transform=\"translate(578.508999 677.811175)rotate(-90)scale(0.14 -0.14)\">\r\n       <use xlink:href=\"#DejaVuSans-50\"/>\r\n       <use x=\"63.623047\" xlink:href=\"#DejaVuSans-48\"/>\r\n       <use x=\"127.246094\" xlink:href=\"#DejaVuSans-49\"/>\r\n       <use x=\"190.869141\" xlink:href=\"#DejaVuSans-55\"/>\r\n       <use x=\"254.492188\" xlink:href=\"#DejaVuSans-45\"/>\r\n       <use x=\"290.576172\" xlink:href=\"#DejaVuSans-48\"/>\r\n       <use x=\"354.199219\" xlink:href=\"#DejaVuSans-54\"/>\r\n       <use x=\"417.822266\" xlink:href=\"#DejaVuSans-45\"/>\r\n       <use x=\"453.90625\" xlink:href=\"#DejaVuSans-50\"/>\r\n       <use x=\"517.529297\" xlink:href=\"#DejaVuSans-56\"/>\r\n      </g>\r\n     </g>\r\n    </g>\r\n    <g id=\"xtick_9\">\r\n     <g id=\"line2d_17\">\r\n      <path clip-path=\"url(#pd425cdf9fd)\" d=\"M 645.122921 592.9493 \r\nL 645.122921 9.7493 \r\n\" style=\"fill:none;stroke:#cbcbcb;\"/>\r\n     </g>\r\n     <g id=\"line2d_18\"/>\r\n     <g id=\"text_9\">\r\n      <!-- 2017-08-17 -->\r\n      <g transform=\"translate(648.986046 677.811175)rotate(-90)scale(0.14 -0.14)\">\r\n       <use xlink:href=\"#DejaVuSans-50\"/>\r\n       <use x=\"63.623047\" xlink:href=\"#DejaVuSans-48\"/>\r\n       <use x=\"127.246094\" xlink:href=\"#DejaVuSans-49\"/>\r\n       <use x=\"190.869141\" xlink:href=\"#DejaVuSans-55\"/>\r\n       <use x=\"254.492188\" xlink:href=\"#DejaVuSans-45\"/>\r\n       <use x=\"290.576172\" xlink:href=\"#DejaVuSans-48\"/>\r\n       <use x=\"354.199219\" xlink:href=\"#DejaVuSans-56\"/>\r\n       <use x=\"417.822266\" xlink:href=\"#DejaVuSans-45\"/>\r\n       <use x=\"453.90625\" xlink:href=\"#DejaVuSans-49\"/>\r\n       <use x=\"517.529297\" xlink:href=\"#DejaVuSans-55\"/>\r\n      </g>\r\n     </g>\r\n    </g>\r\n    <g id=\"text_10\">\r\n     <!--  -->\r\n     <g transform=\"translate(366.033813 692.448987)scale(0.14 -0.14)\"/>\r\n     <!-- Dates -->\r\n     <g transform=\"translate(345.656156 708.125925)scale(0.14 -0.14)\">\r\n      <defs>\r\n       <path d=\"M 19.671875 64.796875 \r\nL 19.671875 8.109375 \r\nL 31.59375 8.109375 \r\nQ 46.6875 8.109375 53.6875 14.9375 \r\nQ 60.6875 21.78125 60.6875 36.53125 \r\nQ 60.6875 51.171875 53.6875 57.984375 \r\nQ 46.6875 64.796875 31.59375 64.796875 \r\nz\r\nM 9.8125 72.90625 \r\nL 30.078125 72.90625 \r\nQ 51.265625 72.90625 61.171875 64.09375 \r\nQ 71.09375 55.28125 71.09375 36.53125 \r\nQ 71.09375 17.671875 61.125 8.828125 \r\nQ 51.171875 0 30.078125 0 \r\nL 9.8125 0 \r\nz\r\n\" id=\"DejaVuSans-68\"/>\r\n       <path d=\"M 34.28125 27.484375 \r\nQ 23.390625 27.484375 19.1875 25 \r\nQ 14.984375 22.515625 14.984375 16.5 \r\nQ 14.984375 11.71875 18.140625 8.90625 \r\nQ 21.296875 6.109375 26.703125 6.109375 \r\nQ 34.1875 6.109375 38.703125 11.40625 \r\nQ 43.21875 16.703125 43.21875 25.484375 \r\nL 43.21875 27.484375 \r\nz\r\nM 52.203125 31.203125 \r\nL 52.203125 0 \r\nL 43.21875 0 \r\nL 43.21875 8.296875 \r\nQ 40.140625 3.328125 35.546875 0.953125 \r\nQ 30.953125 -1.421875 24.3125 -1.421875 \r\nQ 15.921875 -1.421875 10.953125 3.296875 \r\nQ 6 8.015625 6 15.921875 \r\nQ 6 25.140625 12.171875 29.828125 \r\nQ 18.359375 34.515625 30.609375 34.515625 \r\nL 43.21875 34.515625 \r\nL 43.21875 35.40625 \r\nQ 43.21875 41.609375 39.140625 45 \r\nQ 35.0625 48.390625 27.6875 48.390625 \r\nQ 23 48.390625 18.546875 47.265625 \r\nQ 14.109375 46.140625 10.015625 43.890625 \r\nL 10.015625 52.203125 \r\nQ 14.9375 54.109375 19.578125 55.046875 \r\nQ 24.21875 56 28.609375 56 \r\nQ 40.484375 56 46.34375 49.84375 \r\nQ 52.203125 43.703125 52.203125 31.203125 \r\nz\r\n\" id=\"DejaVuSans-97\"/>\r\n       <path d=\"M 18.3125 70.21875 \r\nL 18.3125 54.6875 \r\nL 36.8125 54.6875 \r\nL 36.8125 47.703125 \r\nL 18.3125 47.703125 \r\nL 18.3125 18.015625 \r\nQ 18.3125 11.328125 20.140625 9.421875 \r\nQ 21.96875 7.515625 27.59375 7.515625 \r\nL 36.8125 7.515625 \r\nL 36.8125 0 \r\nL 27.59375 0 \r\nQ 17.1875 0 13.234375 3.875 \r\nQ 9.28125 7.765625 9.28125 18.015625 \r\nL 9.28125 47.703125 \r\nL 2.6875 47.703125 \r\nL 2.6875 54.6875 \r\nL 9.28125 54.6875 \r\nL 9.28125 70.21875 \r\nz\r\n\" id=\"DejaVuSans-116\"/>\r\n       <path d=\"M 56.203125 29.59375 \r\nL 56.203125 25.203125 \r\nL 14.890625 25.203125 \r\nQ 15.484375 15.921875 20.484375 11.0625 \r\nQ 25.484375 6.203125 34.421875 6.203125 \r\nQ 39.59375 6.203125 44.453125 7.46875 \r\nQ 49.3125 8.734375 54.109375 11.28125 \r\nL 54.109375 2.78125 \r\nQ 49.265625 0.734375 44.1875 -0.34375 \r\nQ 39.109375 -1.421875 33.890625 -1.421875 \r\nQ 20.796875 -1.421875 13.15625 6.1875 \r\nQ 5.515625 13.8125 5.515625 26.8125 \r\nQ 5.515625 40.234375 12.765625 48.109375 \r\nQ 20.015625 56 32.328125 56 \r\nQ 43.359375 56 49.78125 48.890625 \r\nQ 56.203125 41.796875 56.203125 29.59375 \r\nz\r\nM 47.21875 32.234375 \r\nQ 47.125 39.59375 43.09375 43.984375 \r\nQ 39.0625 48.390625 32.421875 48.390625 \r\nQ 24.90625 48.390625 20.390625 44.140625 \r\nQ 15.875 39.890625 15.1875 32.171875 \r\nz\r\n\" id=\"DejaVuSans-101\"/>\r\n       <path d=\"M 44.28125 53.078125 \r\nL 44.28125 44.578125 \r\nQ 40.484375 46.53125 36.375 47.5 \r\nQ 32.28125 48.484375 27.875 48.484375 \r\nQ 21.1875 48.484375 17.84375 46.4375 \r\nQ 14.5 44.390625 14.5 40.28125 \r\nQ 14.5 37.15625 16.890625 35.375 \r\nQ 19.28125 33.59375 26.515625 31.984375 \r\nL 29.59375 31.296875 \r\nQ 39.15625 29.25 43.1875 25.515625 \r\nQ 47.21875 21.78125 47.21875 15.09375 \r\nQ 47.21875 7.46875 41.1875 3.015625 \r\nQ 35.15625 -1.421875 24.609375 -1.421875 \r\nQ 20.21875 -1.421875 15.453125 -0.5625 \r\nQ 10.6875 0.296875 5.421875 2 \r\nL 5.421875 11.28125 \r\nQ 10.40625 8.6875 15.234375 7.390625 \r\nQ 20.0625 6.109375 24.8125 6.109375 \r\nQ 31.15625 6.109375 34.5625 8.28125 \r\nQ 37.984375 10.453125 37.984375 14.40625 \r\nQ 37.984375 18.0625 35.515625 20.015625 \r\nQ 33.0625 21.96875 24.703125 23.78125 \r\nL 21.578125 24.515625 \r\nQ 13.234375 26.265625 9.515625 29.90625 \r\nQ 5.8125 33.546875 5.8125 39.890625 \r\nQ 5.8125 47.609375 11.28125 51.796875 \r\nQ 16.75 56 26.8125 56 \r\nQ 31.78125 56 36.171875 55.265625 \r\nQ 40.578125 54.546875 44.28125 53.078125 \r\nz\r\n\" id=\"DejaVuSans-115\"/>\r\n      </defs>\r\n      <use xlink:href=\"#DejaVuSans-68\"/>\r\n      <use x=\"77.001953\" xlink:href=\"#DejaVuSans-97\"/>\r\n      <use x=\"138.28125\" xlink:href=\"#DejaVuSans-116\"/>\r\n      <use x=\"177.490234\" xlink:href=\"#DejaVuSans-101\"/>\r\n      <use x=\"239.013672\" xlink:href=\"#DejaVuSans-115\"/>\r\n     </g>\r\n    </g>\r\n   </g>\r\n   <g id=\"matplotlib.axis_2\">\r\n    <g id=\"ytick_1\">\r\n     <g id=\"line2d_19\">\r\n      <path clip-path=\"url(#pd425cdf9fd)\" d=\"M 52.833813 566.440209 \r\nL 679.233812 566.440209 \r\n\" style=\"fill:none;stroke:#cbcbcb;\"/>\r\n     </g>\r\n     <g id=\"line2d_20\"/>\r\n     <g id=\"text_11\">\r\n      <!-- 0 -->\r\n      <g transform=\"translate(40.426313 571.759115)scale(0.14 -0.14)\">\r\n       <use xlink:href=\"#DejaVuSans-48\"/>\r\n      </g>\r\n     </g>\r\n    </g>\r\n    <g id=\"ytick_2\">\r\n     <g id=\"line2d_21\">\r\n      <path clip-path=\"url(#pd425cdf9fd)\" d=\"M 52.833813 487.308594 \r\nL 679.233812 487.308594 \r\n\" style=\"fill:none;stroke:#cbcbcb;\"/>\r\n     </g>\r\n     <g id=\"line2d_22\"/>\r\n     <g id=\"text_12\">\r\n      <!-- 1 -->\r\n      <g transform=\"translate(40.426313 492.6275)scale(0.14 -0.14)\">\r\n       <use xlink:href=\"#DejaVuSans-49\"/>\r\n      </g>\r\n     </g>\r\n    </g>\r\n    <g id=\"ytick_3\">\r\n     <g id=\"line2d_23\">\r\n      <path clip-path=\"url(#pd425cdf9fd)\" d=\"M 52.833813 408.17698 \r\nL 679.233812 408.17698 \r\n\" style=\"fill:none;stroke:#cbcbcb;\"/>\r\n     </g>\r\n     <g id=\"line2d_24\"/>\r\n     <g id=\"text_13\">\r\n      <!-- 2 -->\r\n      <g transform=\"translate(40.426313 413.495886)scale(0.14 -0.14)\">\r\n       <use xlink:href=\"#DejaVuSans-50\"/>\r\n      </g>\r\n     </g>\r\n    </g>\r\n    <g id=\"ytick_4\">\r\n     <g id=\"line2d_25\">\r\n      <path clip-path=\"url(#pd425cdf9fd)\" d=\"M 52.833813 329.045365 \r\nL 679.233812 329.045365 \r\n\" style=\"fill:none;stroke:#cbcbcb;\"/>\r\n     </g>\r\n     <g id=\"line2d_26\"/>\r\n     <g id=\"text_14\">\r\n      <!-- 3 -->\r\n      <g transform=\"translate(40.426313 334.364271)scale(0.14 -0.14)\">\r\n       <use xlink:href=\"#DejaVuSans-51\"/>\r\n      </g>\r\n     </g>\r\n    </g>\r\n    <g id=\"ytick_5\">\r\n     <g id=\"line2d_27\">\r\n      <path clip-path=\"url(#pd425cdf9fd)\" d=\"M 52.833813 249.91375 \r\nL 679.233812 249.91375 \r\n\" style=\"fill:none;stroke:#cbcbcb;\"/>\r\n     </g>\r\n     <g id=\"line2d_28\"/>\r\n     <g id=\"text_15\">\r\n      <!-- 4 -->\r\n      <g transform=\"translate(40.426313 255.232656)scale(0.14 -0.14)\">\r\n       <use xlink:href=\"#DejaVuSans-52\"/>\r\n      </g>\r\n     </g>\r\n    </g>\r\n    <g id=\"ytick_6\">\r\n     <g id=\"line2d_29\">\r\n      <path clip-path=\"url(#pd425cdf9fd)\" d=\"M 52.833813 170.782136 \r\nL 679.233812 170.782136 \r\n\" style=\"fill:none;stroke:#cbcbcb;\"/>\r\n     </g>\r\n     <g id=\"line2d_30\"/>\r\n     <g id=\"text_16\">\r\n      <!-- 5 -->\r\n      <g transform=\"translate(40.426313 176.101042)scale(0.14 -0.14)\">\r\n       <use xlink:href=\"#DejaVuSans-53\"/>\r\n      </g>\r\n     </g>\r\n    </g>\r\n    <g id=\"ytick_7\">\r\n     <g id=\"line2d_31\">\r\n      <path clip-path=\"url(#pd425cdf9fd)\" d=\"M 52.833813 91.650521 \r\nL 679.233812 91.650521 \r\n\" style=\"fill:none;stroke:#cbcbcb;\"/>\r\n     </g>\r\n     <g id=\"line2d_32\"/>\r\n     <g id=\"text_17\">\r\n      <!-- 6 -->\r\n      <g transform=\"translate(40.426313 96.969427)scale(0.14 -0.14)\">\r\n       <use xlink:href=\"#DejaVuSans-54\"/>\r\n      </g>\r\n     </g>\r\n    </g>\r\n    <g id=\"ytick_8\">\r\n     <g id=\"line2d_33\">\r\n      <path clip-path=\"url(#pd425cdf9fd)\" d=\"M 52.833813 12.518906 \r\nL 679.233812 12.518906 \r\n\" style=\"fill:none;stroke:#cbcbcb;\"/>\r\n     </g>\r\n     <g id=\"line2d_34\"/>\r\n     <g id=\"text_18\">\r\n      <!-- 7 -->\r\n      <g transform=\"translate(40.426313 17.837813)scale(0.14 -0.14)\">\r\n       <use xlink:href=\"#DejaVuSans-55\"/>\r\n      </g>\r\n     </g>\r\n    </g>\r\n    <g id=\"text_19\">\r\n     <!-- Precipitation (inches) -->\r\n     <g transform=\"translate(17.837812 375.406018)rotate(-90)scale(0.14 -0.14)\">\r\n      <defs>\r\n       <path d=\"M 19.671875 64.796875 \r\nL 19.671875 37.40625 \r\nL 32.078125 37.40625 \r\nQ 38.96875 37.40625 42.71875 40.96875 \r\nQ 46.484375 44.53125 46.484375 51.125 \r\nQ 46.484375 57.671875 42.71875 61.234375 \r\nQ 38.96875 64.796875 32.078125 64.796875 \r\nz\r\nM 9.8125 72.90625 \r\nL 32.078125 72.90625 \r\nQ 44.34375 72.90625 50.609375 67.359375 \r\nQ 56.890625 61.8125 56.890625 51.125 \r\nQ 56.890625 40.328125 50.609375 34.8125 \r\nQ 44.34375 29.296875 32.078125 29.296875 \r\nL 19.671875 29.296875 \r\nL 19.671875 0 \r\nL 9.8125 0 \r\nz\r\n\" id=\"DejaVuSans-80\"/>\r\n       <path d=\"M 41.109375 46.296875 \r\nQ 39.59375 47.171875 37.8125 47.578125 \r\nQ 36.03125 48 33.890625 48 \r\nQ 26.265625 48 22.1875 43.046875 \r\nQ 18.109375 38.09375 18.109375 28.8125 \r\nL 18.109375 0 \r\nL 9.078125 0 \r\nL 9.078125 54.6875 \r\nL 18.109375 54.6875 \r\nL 18.109375 46.1875 \r\nQ 20.953125 51.171875 25.484375 53.578125 \r\nQ 30.03125 56 36.53125 56 \r\nQ 37.453125 56 38.578125 55.875 \r\nQ 39.703125 55.765625 41.0625 55.515625 \r\nz\r\n\" id=\"DejaVuSans-114\"/>\r\n       <path d=\"M 48.78125 52.59375 \r\nL 48.78125 44.1875 \r\nQ 44.96875 46.296875 41.140625 47.34375 \r\nQ 37.3125 48.390625 33.40625 48.390625 \r\nQ 24.65625 48.390625 19.8125 42.84375 \r\nQ 14.984375 37.3125 14.984375 27.296875 \r\nQ 14.984375 17.28125 19.8125 11.734375 \r\nQ 24.65625 6.203125 33.40625 6.203125 \r\nQ 37.3125 6.203125 41.140625 7.25 \r\nQ 44.96875 8.296875 48.78125 10.40625 \r\nL 48.78125 2.09375 \r\nQ 45.015625 0.34375 40.984375 -0.53125 \r\nQ 36.96875 -1.421875 32.421875 -1.421875 \r\nQ 20.0625 -1.421875 12.78125 6.34375 \r\nQ 5.515625 14.109375 5.515625 27.296875 \r\nQ 5.515625 40.671875 12.859375 48.328125 \r\nQ 20.21875 56 33.015625 56 \r\nQ 37.15625 56 41.109375 55.140625 \r\nQ 45.0625 54.296875 48.78125 52.59375 \r\nz\r\n\" id=\"DejaVuSans-99\"/>\r\n       <path d=\"M 9.421875 54.6875 \r\nL 18.40625 54.6875 \r\nL 18.40625 0 \r\nL 9.421875 0 \r\nz\r\nM 9.421875 75.984375 \r\nL 18.40625 75.984375 \r\nL 18.40625 64.59375 \r\nL 9.421875 64.59375 \r\nz\r\n\" id=\"DejaVuSans-105\"/>\r\n       <path d=\"M 18.109375 8.203125 \r\nL 18.109375 -20.796875 \r\nL 9.078125 -20.796875 \r\nL 9.078125 54.6875 \r\nL 18.109375 54.6875 \r\nL 18.109375 46.390625 \r\nQ 20.953125 51.265625 25.265625 53.625 \r\nQ 29.59375 56 35.59375 56 \r\nQ 45.5625 56 51.78125 48.09375 \r\nQ 58.015625 40.1875 58.015625 27.296875 \r\nQ 58.015625 14.40625 51.78125 6.484375 \r\nQ 45.5625 -1.421875 35.59375 -1.421875 \r\nQ 29.59375 -1.421875 25.265625 0.953125 \r\nQ 20.953125 3.328125 18.109375 8.203125 \r\nz\r\nM 48.6875 27.296875 \r\nQ 48.6875 37.203125 44.609375 42.84375 \r\nQ 40.53125 48.484375 33.40625 48.484375 \r\nQ 26.265625 48.484375 22.1875 42.84375 \r\nQ 18.109375 37.203125 18.109375 27.296875 \r\nQ 18.109375 17.390625 22.1875 11.75 \r\nQ 26.265625 6.109375 33.40625 6.109375 \r\nQ 40.53125 6.109375 44.609375 11.75 \r\nQ 48.6875 17.390625 48.6875 27.296875 \r\nz\r\n\" id=\"DejaVuSans-112\"/>\r\n       <path d=\"M 30.609375 48.390625 \r\nQ 23.390625 48.390625 19.1875 42.75 \r\nQ 14.984375 37.109375 14.984375 27.296875 \r\nQ 14.984375 17.484375 19.15625 11.84375 \r\nQ 23.34375 6.203125 30.609375 6.203125 \r\nQ 37.796875 6.203125 41.984375 11.859375 \r\nQ 46.1875 17.53125 46.1875 27.296875 \r\nQ 46.1875 37.015625 41.984375 42.703125 \r\nQ 37.796875 48.390625 30.609375 48.390625 \r\nz\r\nM 30.609375 56 \r\nQ 42.328125 56 49.015625 48.375 \r\nQ 55.71875 40.765625 55.71875 27.296875 \r\nQ 55.71875 13.875 49.015625 6.21875 \r\nQ 42.328125 -1.421875 30.609375 -1.421875 \r\nQ 18.84375 -1.421875 12.171875 6.21875 \r\nQ 5.515625 13.875 5.515625 27.296875 \r\nQ 5.515625 40.765625 12.171875 48.375 \r\nQ 18.84375 56 30.609375 56 \r\nz\r\n\" id=\"DejaVuSans-111\"/>\r\n       <path d=\"M 54.890625 33.015625 \r\nL 54.890625 0 \r\nL 45.90625 0 \r\nL 45.90625 32.71875 \r\nQ 45.90625 40.484375 42.875 44.328125 \r\nQ 39.84375 48.1875 33.796875 48.1875 \r\nQ 26.515625 48.1875 22.3125 43.546875 \r\nQ 18.109375 38.921875 18.109375 30.90625 \r\nL 18.109375 0 \r\nL 9.078125 0 \r\nL 9.078125 54.6875 \r\nL 18.109375 54.6875 \r\nL 18.109375 46.1875 \r\nQ 21.34375 51.125 25.703125 53.5625 \r\nQ 30.078125 56 35.796875 56 \r\nQ 45.21875 56 50.046875 50.171875 \r\nQ 54.890625 44.34375 54.890625 33.015625 \r\nz\r\n\" id=\"DejaVuSans-110\"/>\r\n       <path id=\"DejaVuSans-32\"/>\r\n       <path d=\"M 31 75.875 \r\nQ 24.46875 64.65625 21.28125 53.65625 \r\nQ 18.109375 42.671875 18.109375 31.390625 \r\nQ 18.109375 20.125 21.3125 9.0625 \r\nQ 24.515625 -2 31 -13.1875 \r\nL 23.1875 -13.1875 \r\nQ 15.875 -1.703125 12.234375 9.375 \r\nQ 8.59375 20.453125 8.59375 31.390625 \r\nQ 8.59375 42.28125 12.203125 53.3125 \r\nQ 15.828125 64.359375 23.1875 75.875 \r\nz\r\n\" id=\"DejaVuSans-40\"/>\r\n       <path d=\"M 54.890625 33.015625 \r\nL 54.890625 0 \r\nL 45.90625 0 \r\nL 45.90625 32.71875 \r\nQ 45.90625 40.484375 42.875 44.328125 \r\nQ 39.84375 48.1875 33.796875 48.1875 \r\nQ 26.515625 48.1875 22.3125 43.546875 \r\nQ 18.109375 38.921875 18.109375 30.90625 \r\nL 18.109375 0 \r\nL 9.078125 0 \r\nL 9.078125 75.984375 \r\nL 18.109375 75.984375 \r\nL 18.109375 46.1875 \r\nQ 21.34375 51.125 25.703125 53.5625 \r\nQ 30.078125 56 35.796875 56 \r\nQ 45.21875 56 50.046875 50.171875 \r\nQ 54.890625 44.34375 54.890625 33.015625 \r\nz\r\n\" id=\"DejaVuSans-104\"/>\r\n       <path d=\"M 8.015625 75.875 \r\nL 15.828125 75.875 \r\nQ 23.140625 64.359375 26.78125 53.3125 \r\nQ 30.421875 42.28125 30.421875 31.390625 \r\nQ 30.421875 20.453125 26.78125 9.375 \r\nQ 23.140625 -1.703125 15.828125 -13.1875 \r\nL 8.015625 -13.1875 \r\nQ 14.5 -2 17.703125 9.0625 \r\nQ 20.90625 20.125 20.90625 31.390625 \r\nQ 20.90625 42.671875 17.703125 53.65625 \r\nQ 14.5 64.65625 8.015625 75.875 \r\nz\r\n\" id=\"DejaVuSans-41\"/>\r\n      </defs>\r\n      <use xlink:href=\"#DejaVuSans-80\"/>\r\n      <use x=\"58.552734\" xlink:href=\"#DejaVuSans-114\"/>\r\n      <use x=\"97.416016\" xlink:href=\"#DejaVuSans-101\"/>\r\n      <use x=\"158.939453\" xlink:href=\"#DejaVuSans-99\"/>\r\n      <use x=\"213.919922\" xlink:href=\"#DejaVuSans-105\"/>\r\n      <use x=\"241.703125\" xlink:href=\"#DejaVuSans-112\"/>\r\n      <use x=\"305.179688\" xlink:href=\"#DejaVuSans-105\"/>\r\n      <use x=\"332.962891\" xlink:href=\"#DejaVuSans-116\"/>\r\n      <use x=\"372.171875\" xlink:href=\"#DejaVuSans-97\"/>\r\n      <use x=\"433.451172\" xlink:href=\"#DejaVuSans-116\"/>\r\n      <use x=\"472.660156\" xlink:href=\"#DejaVuSans-105\"/>\r\n      <use x=\"500.443359\" xlink:href=\"#DejaVuSans-111\"/>\r\n      <use x=\"561.625\" xlink:href=\"#DejaVuSans-110\"/>\r\n      <use x=\"625.003906\" xlink:href=\"#DejaVuSans-32\"/>\r\n      <use x=\"656.791016\" xlink:href=\"#DejaVuSans-40\"/>\r\n      <use x=\"695.804688\" xlink:href=\"#DejaVuSans-105\"/>\r\n      <use x=\"723.587891\" xlink:href=\"#DejaVuSans-110\"/>\r\n      <use x=\"786.966797\" xlink:href=\"#DejaVuSans-99\"/>\r\n      <use x=\"841.947266\" xlink:href=\"#DejaVuSans-104\"/>\r\n      <use x=\"905.326172\" xlink:href=\"#DejaVuSans-101\"/>\r\n      <use x=\"966.849609\" xlink:href=\"#DejaVuSans-115\"/>\r\n      <use x=\"1018.949219\" xlink:href=\"#DejaVuSans-41\"/>\r\n     </g>\r\n     <!--  -->\r\n     <g transform=\"translate(33.51475 301.3493)rotate(-90)scale(0.14 -0.14)\"/>\r\n    </g>\r\n   </g>\r\n   <g id=\"line2d_35\">\r\n    <path clip-path=\"url(#pd425cdf9fd)\" d=\"M 81.30654 566.440209 \r\nL 81.588448 424.794619 \r\nL 81.870356 562.483628 \r\nL 82.152264 554.570467 \r\nL 82.434173 511.048079 \r\nL 82.716081 564.857577 \r\nL 82.997989 560.10968 \r\nL 83.279897 396.307237 \r\nL 83.561805 386.020127 \r\nL 83.843713 451.699368 \r\nL 84.125622 469.899639 \r\nL 84.40753 396.307237 \r\nL 84.689438 560.10968 \r\nL 84.971346 566.440209 \r\nL 85.253254 549.82257 \r\nL 85.535163 561.692312 \r\nL 85.817071 566.440209 \r\nL 86.098979 557.735731 \r\nL 86.380887 560.10968 \r\nL 86.662795 564.06626 \r\nL 86.944704 565.648893 \r\nL 87.226612 566.440209 \r\nL 87.50852 563.274944 \r\nL 88.072336 566.440209 \r\nL 88.354245 552.196518 \r\nL 88.636153 556.944415 \r\nL 88.918061 566.440209 \r\nL 89.199969 566.440209 \r\nL 89.481877 564.857577 \r\nL 89.763785 518.96124 \r\nL 90.045694 555.361783 \r\nL 90.327602 565.648893 \r\nL 90.60951 555.361783 \r\nL 90.891418 555.361783 \r\nL 91.173326 402.637766 \r\nL 91.455235 566.440209 \r\nL 91.737143 563.274944 \r\nL 92.019051 566.440209 \r\nL 92.300959 552.987834 \r\nL 92.582867 495.221756 \r\nL 93.146684 566.440209 \r\nL 93.428592 564.857577 \r\nL 93.7105 566.440209 \r\nL 93.992408 562.483628 \r\nL 94.274317 566.440209 \r\nL 94.556225 566.440209 \r\nL 94.838133 558.527047 \r\nL 95.120041 547.448621 \r\nL 95.401949 556.153099 \r\nL 95.683858 371.776437 \r\nL 95.965766 546.657305 \r\nL 96.247674 566.440209 \r\nL 96.529582 564.857577 \r\nL 96.81149 566.440209 \r\nL 97.093398 565.648893 \r\nL 97.375307 566.440209 \r\nL 97.657215 566.440209 \r\nL 97.939123 564.06626 \r\nL 98.502939 565.648893 \r\nL 98.784848 551.405202 \r\nL 99.066756 487.308594 \r\nL 99.348664 560.10968 \r\nL 99.630572 556.944415 \r\nL 99.91248 566.440209 \r\nL 100.194389 560.900996 \r\nL 100.476297 564.06626 \r\nL 100.758205 555.361783 \r\nL 101.040113 507.882814 \r\nL 101.322021 564.06626 \r\nL 101.60393 531.622298 \r\nL 101.885838 564.857577 \r\nL 102.167746 564.06626 \r\nL 102.731562 552.196518 \r\nL 103.01347 562.483628 \r\nL 103.295379 564.06626 \r\nL 103.577287 487.308594 \r\nL 103.859195 557.735731 \r\nL 104.141103 563.274944 \r\nL 104.423011 553.77915 \r\nL 104.70492 562.483628 \r\nL 104.986828 557.735731 \r\nL 105.268736 558.527047 \r\nL 105.550644 459.612529 \r\nL 105.832552 548.239937 \r\nL 106.114461 560.900996 \r\nL 106.396369 565.648893 \r\nL 106.678277 554.570467 \r\nL 106.960185 549.031254 \r\nL 107.242093 565.648893 \r\nL 107.524002 566.440209 \r\nL 107.80591 548.239937 \r\nL 108.087818 538.744144 \r\nL 108.369726 543.492041 \r\nL 108.651634 565.648893 \r\nL 108.933542 564.06626 \r\nL 109.215451 553.77915 \r\nL 109.497359 566.440209 \r\nL 109.779267 555.361783 \r\nL 110.061175 474.647536 \r\nL 110.343083 565.648893 \r\nL 110.624992 559.318364 \r\nL 110.9069 542.700724 \r\nL 111.188808 556.944415 \r\nL 111.470716 552.196518 \r\nL 111.752624 562.483628 \r\nL 112.316441 484.14333 \r\nL 112.598349 563.274944 \r\nL 112.880257 541.909408 \r\nL 113.162165 566.440209 \r\nL 113.444074 554.570467 \r\nL 113.725982 564.857577 \r\nL 114.00789 471.482271 \r\nL 114.289798 541.118092 \r\nL 114.571706 530.039666 \r\nL 114.853614 539.53546 \r\nL 115.135523 537.161511 \r\nL 115.417431 461.986477 \r\nL 115.699339 495.221756 \r\nL 115.981247 472.273587 \r\nL 116.263155 420.838038 \r\nL 116.545064 36.258391 \r\nL 116.826972 382.063547 \r\nL 117.10888 533.204931 \r\nL 117.390788 552.987834 \r\nL 117.954605 560.900996 \r\nL 118.236513 301.3493 \r\nL 118.518421 500.760969 \r\nL 118.800329 518.169924 \r\nL 119.082237 566.440209 \r\nL 119.364146 561.692312 \r\nL 119.646054 560.900996 \r\nL 119.927962 561.692312 \r\nL 120.20987 565.648893 \r\nL 120.491778 565.648893 \r\nL 120.773686 566.440209 \r\nL 121.055595 548.239937 \r\nL 121.337503 563.274944 \r\nL 121.619411 537.952828 \r\nL 121.901319 562.483628 \r\nL 122.183227 566.440209 \r\nL 122.465136 560.900996 \r\nL 122.747044 563.274944 \r\nL 123.028952 533.204931 \r\nL 123.31086 566.440209 \r\nL 123.592768 546.657305 \r\nL 123.874677 565.648893 \r\nL 124.156585 562.483628 \r\nL 124.438493 566.440209 \r\nL 124.720401 565.648893 \r\nL 125.002309 566.440209 \r\nL 125.284218 559.318364 \r\nL 125.566126 549.031254 \r\nL 125.848034 566.440209 \r\nL 126.129942 563.274944 \r\nL 126.693758 532.413615 \r\nL 126.975667 561.692312 \r\nL 127.257575 566.440209 \r\nL 127.539483 560.900996 \r\nL 127.821391 564.857577 \r\nL 128.103299 485.725962 \r\nL 128.385208 566.440209 \r\nL 128.667116 507.091498 \r\nL 128.949024 559.318364 \r\nL 129.230932 561.692312 \r\nL 129.51284 565.648893 \r\nL 130.076657 539.53546 \r\nL 130.358565 564.857577 \r\nL 130.640473 540.326776 \r\nL 130.922381 566.440209 \r\nL 131.20429 492.056491 \r\nL 131.486198 554.570467 \r\nL 131.768106 566.440209 \r\nL 132.050014 554.570467 \r\nL 132.331922 566.440209 \r\nL 132.613831 566.440209 \r\nL 132.895739 545.074673 \r\nL 133.177647 566.440209 \r\nL 133.741463 566.440209 \r\nL 134.023371 565.648893 \r\nL 134.30528 566.440209 \r\nL 134.587188 564.857577 \r\nL 134.869096 564.06626 \r\nL 135.151004 566.440209 \r\nL 135.432912 566.440209 \r\nL 135.714821 563.274944 \r\nL 135.996729 564.857577 \r\nL 136.278637 552.987834 \r\nL 136.560545 485.725962 \r\nL 136.842453 561.692312 \r\nL 137.124362 539.53546 \r\nL 137.40627 561.692312 \r\nL 137.688178 556.944415 \r\nL 138.251994 566.440209 \r\nL 138.533903 487.308594 \r\nL 138.815811 552.987834 \r\nL 139.097719 564.857577 \r\nL 139.379627 566.440209 \r\nL 139.943443 566.440209 \r\nL 140.225352 562.483628 \r\nL 140.50726 560.10968 \r\nL 140.789168 566.440209 \r\nL 141.071076 566.440209 \r\nL 141.352984 550.613886 \r\nL 141.634893 566.440209 \r\nL 141.916801 563.274944 \r\nL 142.198709 519.752556 \r\nL 142.480617 527.665718 \r\nL 142.762525 448.534103 \r\nL 143.044434 552.196518 \r\nL 143.890158 536.370195 \r\nL 144.172066 566.440209 \r\nL 144.453975 561.692312 \r\nL 144.735883 554.570467 \r\nL 145.017791 566.440209 \r\nL 145.299699 555.361783 \r\nL 145.581607 560.10968 \r\nL 145.863515 555.361783 \r\nL 146.145424 560.900996 \r\nL 146.427332 485.725962 \r\nL 146.70924 518.169924 \r\nL 146.991148 566.440209 \r\nL 147.273056 564.857577 \r\nL 147.554965 564.06626 \r\nL 147.836873 561.692312 \r\nL 148.118781 566.440209 \r\nL 148.400689 564.06626 \r\nL 148.682597 530.039666 \r\nL 148.964506 566.440209 \r\nL 149.246414 563.274944 \r\nL 149.528322 553.77915 \r\nL 149.81023 566.440209 \r\nL 150.092138 292.644822 \r\nL 150.374047 566.440209 \r\nL 150.655955 564.06626 \r\nL 150.937863 566.440209 \r\nL 151.501679 566.440209 \r\nL 151.783587 502.343601 \r\nL 152.065496 566.440209 \r\nL 152.347404 565.648893 \r\nL 152.629312 566.440209 \r\nL 153.756945 566.440209 \r\nL 154.320761 560.900996 \r\nL 154.602669 566.440209 \r\nL 154.884578 562.483628 \r\nL 155.166486 566.440209 \r\nL 156.01221 566.440209 \r\nL 156.294119 565.648893 \r\nL 156.576027 566.440209 \r\nL 156.857935 566.440209 \r\nL 157.139843 563.274944 \r\nL 157.421751 566.440209 \r\nL 161.368466 566.440209 \r\nL 161.650374 563.274944 \r\nL 161.932282 544.283357 \r\nL 162.214191 564.857577 \r\nL 162.496099 566.440209 \r\nL 162.778007 538.744144 \r\nL 163.059915 564.06626 \r\nL 163.341823 566.440209 \r\nL 163.623731 564.857577 \r\nL 163.90564 566.440209 \r\nL 164.187548 564.06626 \r\nL 164.469456 566.440209 \r\nL 164.751364 566.440209 \r\nL 165.033272 561.692312 \r\nL 165.315181 566.440209 \r\nL 165.597089 564.857577 \r\nL 165.878997 566.440209 \r\nL 168.134263 566.440209 \r\nL 168.416171 564.857577 \r\nL 168.698079 566.440209 \r\nL 168.979987 540.326776 \r\nL 169.261895 563.274944 \r\nL 169.543803 566.440209 \r\nL 170.953344 566.440209 \r\nL 171.235253 565.648893 \r\nL 171.517161 565.648893 \r\nL 171.799069 556.944415 \r\nL 172.080977 564.06626 \r\nL 172.362885 536.370195 \r\nL 172.644794 564.857577 \r\nL 172.926702 566.440209 \r\nL 173.20861 562.483628 \r\nL 173.490518 564.857577 \r\nL 173.772426 564.06626 \r\nL 174.054335 528.457034 \r\nL 174.336243 566.440209 \r\nL 174.618151 557.735731 \r\nL 174.900059 566.440209 \r\nL 175.463876 566.440209 \r\nL 175.745784 561.692312 \r\nL 176.027692 566.440209 \r\nL 176.3096 565.648893 \r\nL 176.591508 566.440209 \r\nL 176.873416 487.308594 \r\nL 177.155325 566.440209 \r\nL 177.437233 554.570467 \r\nL 178.001049 564.06626 \r\nL 178.282957 562.483628 \r\nL 178.564866 566.440209 \r\nL 178.846774 458.029897 \r\nL 179.128682 554.570467 \r\nL 179.41059 554.570467 \r\nL 179.692498 558.527047 \r\nL 179.974407 566.440209 \r\nL 180.256315 564.857577 \r\nL 180.538223 566.440209 \r\nL 180.820131 565.648893 \r\nL 181.102039 565.648893 \r\nL 181.383948 547.448621 \r\nL 181.665856 565.648893 \r\nL 181.947764 566.440209 \r\nL 182.229672 560.10968 \r\nL 182.51158 511.048079 \r\nL 182.793488 566.440209 \r\nL 183.075397 566.440209 \r\nL 183.357305 534.787563 \r\nL 183.639213 563.274944 \r\nL 183.921121 566.440209 \r\nL 184.203029 557.735731 \r\nL 184.484938 564.06626 \r\nL 184.766846 534.787563 \r\nL 185.048754 556.944415 \r\nL 185.330662 566.440209 \r\nL 185.61257 561.692312 \r\nL 185.894479 565.648893 \r\nL 186.176387 566.440209 \r\nL 186.458295 550.613886 \r\nL 186.740203 564.857577 \r\nL 187.022111 566.440209 \r\nL 187.30402 557.735731 \r\nL 187.585928 560.10968 \r\nL 187.867836 467.525691 \r\nL 188.149744 549.031254 \r\nL 188.431652 550.613886 \r\nL 188.71356 562.483628 \r\nL 188.995469 560.900996 \r\nL 189.277377 561.692312 \r\nL 189.559285 566.440209 \r\nL 189.841193 564.857577 \r\nL 190.123101 537.161511 \r\nL 190.40501 564.857577 \r\nL 190.686918 545.865989 \r\nL 190.968826 546.657305 \r\nL 191.250734 566.440209 \r\nL 191.532642 565.648893 \r\nL 191.814551 558.527047 \r\nL 192.096459 558.527047 \r\nL 192.378367 555.361783 \r\nL 192.660275 547.448621 \r\nL 192.942183 491.265175 \r\nL 193.224092 553.77915 \r\nL 193.506 566.440209 \r\nL 193.787908 566.440209 \r\nL 194.069816 556.153099 \r\nL 194.351724 459.612529 \r\nL 194.633632 560.900996 \r\nL 194.915541 564.06626 \r\nL 195.197449 564.06626 \r\nL 195.479357 565.648893 \r\nL 195.761265 558.527047 \r\nL 196.043173 566.440209 \r\nL 196.325082 565.648893 \r\nL 196.60699 566.440209 \r\nL 196.888898 559.318364 \r\nL 197.452714 566.440209 \r\nL 199.989888 566.440209 \r\nL 200.271796 564.857577 \r\nL 200.553704 566.440209 \r\nL 201.399429 566.440209 \r\nL 201.681337 561.692312 \r\nL 201.963245 566.440209 \r\nL 202.245154 566.440209 \r\nL 202.527062 564.857577 \r\nL 202.80897 564.06626 \r\nL 203.090878 536.370195 \r\nL 203.372786 564.857577 \r\nL 203.654695 566.440209 \r\nL 204.218511 566.440209 \r\nL 204.500419 562.483628 \r\nL 204.782327 564.857577 \r\nL 205.346144 566.440209 \r\nL 205.628052 556.153099 \r\nL 205.90996 566.440209 \r\nL 206.191868 562.483628 \r\nL 206.473776 566.440209 \r\nL 207.037593 566.440209 \r\nL 207.319501 549.82257 \r\nL 207.601409 524.500453 \r\nL 207.883317 554.570467 \r\nL 208.447134 564.857577 \r\nL 208.729042 555.361783 \r\nL 209.01095 557.735731 \r\nL 209.292858 552.987834 \r\nL 209.574767 566.440209 \r\nL 209.856675 566.440209 \r\nL 210.138583 560.10968 \r\nL 210.702399 566.440209 \r\nL 212.11194 566.440209 \r\nL 212.393849 565.648893 \r\nL 212.675757 566.440209 \r\nL 218.032012 566.440209 \r\nL 218.313921 564.857577 \r\nL 218.595829 566.440209 \r\nL 218.877737 564.857577 \r\nL 219.159645 561.692312 \r\nL 219.441553 562.483628 \r\nL 219.723461 566.440209 \r\nL 220.00537 566.440209 \r\nL 220.287278 562.483628 \r\nL 220.569186 566.440209 \r\nL 221.133002 566.440209 \r\nL 221.414911 555.361783 \r\nL 221.696819 552.196518 \r\nL 221.978727 547.448621 \r\nL 222.260635 494.430439 \r\nL 222.542543 566.440209 \r\nL 222.824452 560.900996 \r\nL 223.10636 566.440209 \r\nL 223.388268 566.440209 \r\nL 223.670176 564.857577 \r\nL 223.952084 564.06626 \r\nL 224.233993 566.440209 \r\nL 224.515901 565.648893 \r\nL 224.797809 565.648893 \r\nL 225.079717 566.440209 \r\nL 225.361625 564.857577 \r\nL 225.643533 566.440209 \r\nL 225.925442 556.153099 \r\nL 226.20735 564.06626 \r\nL 226.489258 557.735731 \r\nL 226.771166 557.735731 \r\nL 227.053074 562.483628 \r\nL 227.334983 557.735731 \r\nL 227.616891 534.787563 \r\nL 227.898799 535.578879 \r\nL 228.180707 560.900996 \r\nL 228.462615 557.735731 \r\nL 228.744524 565.648893 \r\nL 229.026432 564.857577 \r\nL 229.30834 339.332475 \r\nL 229.590248 533.996247 \r\nL 229.872156 399.472502 \r\nL 230.154065 404.220399 \r\nL 230.435973 541.909408 \r\nL 230.717881 556.153099 \r\nL 230.999789 555.361783 \r\nL 231.281697 546.657305 \r\nL 231.563605 564.06626 \r\nL 231.845514 564.06626 \r\nL 232.127422 549.031254 \r\nL 232.40933 550.613886 \r\nL 232.691238 509.465446 \r\nL 232.973146 542.700724 \r\nL 233.255055 562.483628 \r\nL 233.536963 549.82257 \r\nL 233.818871 484.934646 \r\nL 234.100779 557.735731 \r\nL 234.382687 562.483628 \r\nL 234.664596 560.10968 \r\nL 234.946504 562.483628 \r\nL 235.228412 561.692312 \r\nL 235.51032 542.700724 \r\nL 235.792228 562.483628 \r\nL 236.074137 564.06626 \r\nL 236.356045 564.857577 \r\nL 236.637953 562.483628 \r\nL 236.919861 552.987834 \r\nL 237.201769 561.692312 \r\nL 237.483677 566.440209 \r\nL 237.765586 564.06626 \r\nL 238.047494 543.492041 \r\nL 238.329402 566.440209 \r\nL 238.61131 565.648893 \r\nL 238.893218 566.440209 \r\nL 239.175127 564.857577 \r\nL 239.457035 566.440209 \r\nL 239.738943 511.839395 \r\nL 240.020851 566.440209 \r\nL 240.302759 561.692312 \r\nL 240.584668 563.274944 \r\nL 240.866576 559.318364 \r\nL 241.148484 563.274944 \r\nL 241.430392 550.613886 \r\nL 241.7123 566.440209 \r\nL 241.994209 555.361783 \r\nL 242.276117 562.483628 \r\nL 242.558025 566.440209 \r\nL 243.121841 562.483628 \r\nL 243.403749 503.926233 \r\nL 243.685658 553.77915 \r\nL 243.967566 560.900996 \r\nL 244.249474 556.944415 \r\nL 244.531382 537.161511 \r\nL 244.81329 509.465446 \r\nL 245.377107 565.648893 \r\nL 245.659015 465.943058 \r\nL 245.940923 564.06626 \r\nL 246.222831 534.787563 \r\nL 246.50474 542.700724 \r\nL 246.786648 538.744144 \r\nL 247.068556 564.857577 \r\nL 247.350464 545.865989 \r\nL 247.632372 563.274944 \r\nL 247.914281 505.508866 \r\nL 248.196189 566.440209 \r\nL 248.478097 438.246993 \r\nL 248.760005 563.274944 \r\nL 249.041913 558.527047 \r\nL 249.323822 564.06626 \r\nL 249.60573 541.118092 \r\nL 249.887638 566.440209 \r\nL 250.169546 541.909408 \r\nL 250.451454 439.829625 \r\nL 250.733362 550.613886 \r\nL 251.297179 530.830982 \r\nL 251.579087 549.031254 \r\nL 251.860995 532.413615 \r\nL 252.142903 564.857577 \r\nL 252.424812 566.440209 \r\nL 252.70672 566.440209 \r\nL 252.988628 564.857577 \r\nL 253.270536 566.440209 \r\nL 253.552444 566.440209 \r\nL 253.834353 560.900996 \r\nL 254.116261 564.857577 \r\nL 254.398169 556.944415 \r\nL 254.680077 552.987834 \r\nL 254.961985 565.648893 \r\nL 255.243894 560.900996 \r\nL 255.525802 564.06626 \r\nL 255.80771 564.06626 \r\nL 256.089618 564.857577 \r\nL 256.371526 545.074673 \r\nL 256.653434 564.06626 \r\nL 256.935343 545.865989 \r\nL 257.217251 539.53546 \r\nL 257.499159 525.291769 \r\nL 257.781067 541.909408 \r\nL 258.062975 533.204931 \r\nL 258.344884 566.440209 \r\nL 258.626792 564.857577 \r\nL 258.9087 562.483628 \r\nL 259.190608 564.857577 \r\nL 259.472516 563.274944 \r\nL 259.754425 566.440209 \r\nL 260.036333 564.857577 \r\nL 260.318241 556.153099 \r\nL 260.600149 561.692312 \r\nL 260.882057 563.274944 \r\nL 261.163966 565.648893 \r\nL 261.445874 565.648893 \r\nL 261.727782 566.440209 \r\nL 262.00969 564.857577 \r\nL 262.291598 566.440209 \r\nL 262.573506 565.648893 \r\nL 262.855415 558.527047 \r\nL 263.137323 554.570467 \r\nL 263.419231 563.274944 \r\nL 263.701139 559.318364 \r\nL 263.983047 562.483628 \r\nL 264.264956 539.53546 \r\nL 264.546864 540.326776 \r\nL 264.828772 562.483628 \r\nL 265.11068 562.483628 \r\nL 265.392588 493.639123 \r\nL 265.674497 564.06626 \r\nL 265.956405 556.944415 \r\nL 266.238313 566.440209 \r\nL 266.520221 564.857577 \r\nL 266.802129 555.361783 \r\nL 267.084038 564.06626 \r\nL 267.365946 560.900996 \r\nL 267.647854 566.440209 \r\nL 268.21167 566.440209 \r\nL 268.493578 564.06626 \r\nL 268.775487 566.440209 \r\nL 269.057395 565.648893 \r\nL 269.339303 566.440209 \r\nL 269.621211 565.648893 \r\nL 269.903119 566.440209 \r\nL 270.185028 553.77915 \r\nL 270.466936 560.900996 \r\nL 270.748844 557.735731 \r\nL 271.030752 545.074673 \r\nL 271.31266 563.274944 \r\nL 271.594569 543.492041 \r\nL 271.876477 553.77915 \r\nL 272.158385 556.153099 \r\nL 272.440293 564.857577 \r\nL 272.722201 549.82257 \r\nL 273.00411 564.06626 \r\nL 273.286018 565.648893 \r\nL 273.567926 554.570467 \r\nL 273.849834 566.440209 \r\nL 274.131742 566.440209 \r\nL 274.41365 564.857577 \r\nL 274.977467 566.440209 \r\nL 275.541283 566.440209 \r\nL 275.823191 559.318364 \r\nL 276.1051 564.06626 \r\nL 276.387008 566.440209 \r\nL 276.668916 557.735731 \r\nL 276.950824 561.692312 \r\nL 277.232732 561.692312 \r\nL 277.796549 498.38702 \r\nL 278.078457 555.361783 \r\nL 278.360365 565.648893 \r\nL 278.642273 468.317007 \r\nL 278.924182 562.483628 \r\nL 279.20609 552.987834 \r\nL 279.487998 564.06626 \r\nL 279.769906 558.527047 \r\nL 280.051814 547.448621 \r\nL 280.333722 564.857577 \r\nL 280.615631 500.760969 \r\nL 280.897539 565.648893 \r\nL 281.179447 556.153099 \r\nL 281.461355 480.978065 \r\nL 281.743263 550.613886 \r\nL 282.025172 565.648893 \r\nL 282.30708 555.361783 \r\nL 282.588988 561.692312 \r\nL 282.870896 564.857577 \r\nL 283.152804 566.440209 \r\nL 283.434713 536.370195 \r\nL 283.716621 564.06626 \r\nL 283.998529 566.440209 \r\nL 284.280437 564.857577 \r\nL 284.562345 561.692312 \r\nL 284.844254 549.031254 \r\nL 285.126162 449.325419 \r\nL 285.40807 545.865989 \r\nL 285.689978 566.440209 \r\nL 285.971886 562.483628 \r\nL 286.253794 566.440209 \r\nL 286.535703 564.857577 \r\nL 286.817611 564.06626 \r\nL 287.099519 555.361783 \r\nL 287.381427 559.318364 \r\nL 287.663335 559.318364 \r\nL 287.945244 565.648893 \r\nL 288.227152 561.692312 \r\nL 288.50906 555.361783 \r\nL 288.790968 564.857577 \r\nL 289.072876 484.934646 \r\nL 289.354785 552.196518 \r\nL 289.636693 563.274944 \r\nL 289.918601 562.483628 \r\nL 290.200509 522.126505 \r\nL 290.482417 525.291769 \r\nL 290.764326 549.82257 \r\nL 291.046234 543.492041 \r\nL 291.328142 378.898282 \r\nL 291.61005 556.944415 \r\nL 291.891958 543.492041 \r\nL 292.173867 560.900996 \r\nL 292.455775 517.378608 \r\nL 292.737683 546.657305 \r\nL 293.019591 495.221756 \r\nL 293.583407 565.648893 \r\nL 293.865316 564.06626 \r\nL 294.147224 564.06626 \r\nL 294.429132 566.440209 \r\nL 294.71104 543.492041 \r\nL 294.992948 566.440209 \r\nL 295.274857 566.440209 \r\nL 295.556765 565.648893 \r\nL 295.838673 566.440209 \r\nL 296.120581 566.440209 \r\nL 296.402489 565.648893 \r\nL 296.684398 566.440209 \r\nL 298.093939 566.440209 \r\nL 298.375847 552.196518 \r\nL 298.657755 566.440209 \r\nL 299.503479 566.440209 \r\nL 299.785388 529.24835 \r\nL 300.067296 566.440209 \r\nL 300.349204 566.440209 \r\nL 300.631112 533.204931 \r\nL 300.91302 566.440209 \r\nL 301.476837 558.527047 \r\nL 301.758745 566.440209 \r\nL 302.040653 565.648893 \r\nL 302.322561 566.440209 \r\nL 302.60447 519.752556 \r\nL 302.886378 558.527047 \r\nL 303.168286 566.440209 \r\nL 303.450194 561.692312 \r\nL 303.732102 566.440209 \r\nL 304.859735 566.440209 \r\nL 305.141643 564.06626 \r\nL 305.423551 566.440209 \r\nL 305.70546 566.440209 \r\nL 305.987368 564.06626 \r\nL 306.269276 566.440209 \r\nL 313.316981 566.440209 \r\nL 313.598889 565.648893 \r\nL 313.880797 566.440209 \r\nL 315.572246 566.440209 \r\nL 315.854155 565.648893 \r\nL 316.136063 566.440209 \r\nL 318.955145 566.440209 \r\nL 319.237053 560.900996 \r\nL 319.518961 566.440209 \r\nL 321.21041 566.440209 \r\nL 321.492318 564.857577 \r\nL 321.774227 566.440209 \r\nL 324.029492 566.440209 \r\nL 324.3114 564.06626 \r\nL 324.593308 560.10968 \r\nL 324.875217 563.274944 \r\nL 325.157125 564.857577 \r\nL 325.439033 557.735731 \r\nL 325.720941 566.440209 \r\nL 326.002849 565.648893 \r\nL 326.284758 509.465446 \r\nL 326.566666 563.274944 \r\nL 326.848574 559.318364 \r\nL 327.130482 553.77915 \r\nL 327.41239 566.440209 \r\nL 327.694299 499.178336 \r\nL 327.976207 565.648893 \r\nL 328.258115 560.10968 \r\nL 328.540023 566.440209 \r\nL 328.821931 556.153099 \r\nL 329.10384 420.046722 \r\nL 329.385748 560.10968 \r\nL 329.667656 554.570467 \r\nL 329.949564 563.274944 \r\nL 330.231472 556.944415 \r\nL 330.51338 503.926233 \r\nL 330.795289 357.532746 \r\nL 331.077197 564.06626 \r\nL 331.359105 566.440209 \r\nL 332.20483 566.440209 \r\nL 332.486738 565.648893 \r\nL 332.768646 558.527047 \r\nL 333.050554 566.440209 \r\nL 333.332462 566.440209 \r\nL 333.614371 564.06626 \r\nL 333.896279 566.440209 \r\nL 334.178187 564.06626 \r\nL 334.460095 566.440209 \r\nL 335.869636 566.440209 \r\nL 336.151544 555.361783 \r\nL 336.433452 566.440209 \r\nL 336.997269 566.440209 \r\nL 337.279177 545.865989 \r\nL 337.561085 552.196518 \r\nL 337.842993 522.917821 \r\nL 338.124902 566.440209 \r\nL 338.688718 566.440209 \r\nL 338.970626 562.483628 \r\nL 339.252534 566.440209 \r\nL 350.528862 566.440209 \r\nL 350.81077 563.274944 \r\nL 351.092678 553.77915 \r\nL 351.374587 552.196518 \r\nL 351.656495 495.221756 \r\nL 351.938403 566.440209 \r\nL 352.220311 461.986477 \r\nL 352.502219 480.978065 \r\nL 352.784128 424.003302 \r\nL 353.066036 526.083085 \r\nL 353.347944 424.794619 \r\nL 353.629852 566.440209 \r\nL 353.91176 566.440209 \r\nL 354.193668 480.978065 \r\nL 354.475577 566.440209 \r\nL 356.730842 566.440209 \r\nL 357.01275 564.857577 \r\nL 357.294659 566.440209 \r\nL 359.268016 566.440209 \r\nL 359.549924 508.67413 \r\nL 359.831832 167.616871 \r\nL 360.11374 429.542515 \r\nL 360.395649 541.909408 \r\nL 360.677557 377.31565 \r\nL 361.241373 560.900996 \r\nL 361.523281 359.115378 \r\nL 362.087098 481.769381 \r\nL 362.369006 421.629354 \r\nL 362.650914 330.627997 \r\nL 362.932822 566.440209 \r\nL 363.214731 566.440209 \r\nL 363.496639 336.958526 \r\nL 363.778547 566.440209 \r\nL 364.060455 565.648893 \r\nL 364.342363 565.648893 \r\nL 364.624272 566.440209 \r\nL 364.90618 565.648893 \r\nL 365.188088 566.440209 \r\nL 366.597629 566.440209 \r\nL 366.879537 565.648893 \r\nL 367.161445 560.900996 \r\nL 367.443353 566.440209 \r\nL 367.725262 560.900996 \r\nL 368.00717 513.422027 \r\nL 368.289078 517.378608 \r\nL 368.570986 508.67413 \r\nL 368.852894 566.440209 \r\nL 369.134803 556.153099 \r\nL 369.416711 561.692312 \r\nL 369.698619 561.692312 \r\nL 369.980527 503.134917 \r\nL 370.262435 556.153099 \r\nL 370.544344 566.440209 \r\nL 371.671976 566.440209 \r\nL 371.953885 565.648893 \r\nL 372.235793 566.440209 \r\nL 372.517701 558.527047 \r\nL 372.799609 559.318364 \r\nL 373.081517 566.440209 \r\nL 374.20915 566.440209 \r\nL 374.491058 560.900996 \r\nL 374.772966 566.440209 \r\nL 375.336783 566.440209 \r\nL 375.618691 561.692312 \r\nL 376.182507 561.692312 \r\nL 376.464416 552.987834 \r\nL 376.746324 556.153099 \r\nL 377.028232 541.118092 \r\nL 377.31014 557.735731 \r\nL 377.873957 566.440209 \r\nL 378.155865 566.440209 \r\nL 378.437773 565.648893 \r\nL 378.719681 566.440209 \r\nL 382.102579 566.440209 \r\nL 382.384488 556.944415 \r\nL 382.666396 564.06626 \r\nL 382.948304 566.440209 \r\nL 385.485478 566.440209 \r\nL 385.767386 563.274944 \r\nL 386.049294 566.440209 \r\nL 386.331202 520.543872 \r\nL 386.61311 553.77915 \r\nL 386.895019 566.440209 \r\nL 387.176927 563.274944 \r\nL 387.458835 398.681186 \r\nL 387.740743 376.524334 \r\nL 388.022651 519.752556 \r\nL 388.30456 472.273587 \r\nL 388.586468 392.350657 \r\nL 388.868376 477.8128 \r\nL 389.150284 408.17698 \r\nL 389.432192 451.699368 \r\nL 389.714101 520.543872 \r\nL 389.996009 449.325419 \r\nL 390.277917 508.67413 \r\nL 390.559825 417.672773 \r\nL 390.841733 531.622298 \r\nL 391.123641 523.709137 \r\nL 391.40555 522.126505 \r\nL 391.687458 555.361783 \r\nL 391.969366 529.24835 \r\nL 392.251274 546.657305 \r\nL 392.533182 545.074673 \r\nL 392.815091 566.440209 \r\nL 393.942723 566.440209 \r\nL 394.224632 533.996247 \r\nL 394.50654 538.744144 \r\nL 394.788448 558.527047 \r\nL 395.070356 538.744144 \r\nL 395.352264 566.440209 \r\nL 395.634173 564.06626 \r\nL 395.916081 526.083085 \r\nL 396.197989 566.440209 \r\nL 399.017071 566.440209 \r\nL 399.298979 526.874402 \r\nL 399.580887 566.440209 \r\nL 399.862795 515.004659 \r\nL 400.144704 566.440209 \r\nL 400.426612 503.134917 \r\nL 400.70852 565.648893 \r\nL 400.990428 566.440209 \r\nL 401.272336 564.06626 \r\nL 401.554245 556.153099 \r\nL 401.836153 566.440209 \r\nL 402.399969 566.440209 \r\nL 402.681877 556.153099 \r\nL 402.963785 566.440209 \r\nL 403.245694 565.648893 \r\nL 403.527602 566.440209 \r\nL 403.80951 564.06626 \r\nL 404.091418 566.440209 \r\nL 408.320041 566.440209 \r\nL 408.601949 561.692312 \r\nL 408.883858 566.440209 \r\nL 410.01149 566.440209 \r\nL 410.293398 561.692312 \r\nL 410.575307 566.440209 \r\nL 411.702939 566.440209 \r\nL 411.984848 561.692312 \r\nL 412.266756 538.744144 \r\nL 412.548664 566.440209 \r\nL 412.830572 556.944415 \r\nL 413.11248 551.405202 \r\nL 413.394389 566.440209 \r\nL 416.495379 566.440209 \r\nL 416.777287 564.857577 \r\nL 417.059195 566.440209 \r\nL 417.623011 566.440209 \r\nL 417.90492 559.318364 \r\nL 418.186828 566.440209 \r\nL 421.569726 566.440209 \r\nL 421.851634 564.857577 \r\nL 422.133542 564.06626 \r\nL 422.415451 566.440209 \r\nL 422.697359 564.857577 \r\nL 422.979267 554.570467 \r\nL 423.261175 552.987834 \r\nL 423.543083 518.96124 \r\nL 423.824992 556.944415 \r\nL 424.1069 560.900996 \r\nL 424.388808 528.457034 \r\nL 424.670716 532.413615 \r\nL 424.952624 566.440209 \r\nL 425.234533 556.153099 \r\nL 425.516441 492.847807 \r\nL 425.798349 566.440209 \r\nL 427.771706 566.440209 \r\nL 428.053614 565.648893 \r\nL 428.335523 566.440209 \r\nL 428.617431 564.06626 \r\nL 428.899339 566.440209 \r\nL 429.745064 566.440209 \r\nL 430.026972 512.630711 \r\nL 430.30888 564.06626 \r\nL 430.590788 566.440209 \r\nL 430.872696 566.440209 \r\nL 431.154605 565.648893 \r\nL 431.436513 560.900996 \r\nL 431.718421 560.10968 \r\nL 432.000329 566.440209 \r\nL 432.282237 566.440209 \r\nL 432.846054 560.10968 \r\nL 433.127962 564.06626 \r\nL 433.40987 565.648893 \r\nL 433.691778 566.440209 \r\nL 434.819411 566.440209 \r\nL 435.101319 549.82257 \r\nL 435.383227 566.440209 \r\nL 435.665136 566.440209 \r\nL 435.947044 550.613886 \r\nL 436.228952 566.440209 \r\nL 438.202309 566.440209 \r\nL 438.484218 545.865989 \r\nL 438.766126 560.10968 \r\nL 439.048034 566.440209 \r\nL 439.329942 548.239937 \r\nL 439.893758 566.440209 \r\nL 440.175667 563.274944 \r\nL 440.457575 566.440209 \r\nL 440.739483 559.318364 \r\nL 441.021391 566.440209 \r\nL 441.585208 566.440209 \r\nL 441.867116 564.857577 \r\nL 442.149024 566.440209 \r\nL 442.430932 566.440209 \r\nL 442.71284 558.527047 \r\nL 442.994749 530.830982 \r\nL 443.276657 563.274944 \r\nL 443.558565 560.900996 \r\nL 443.840473 566.440209 \r\nL 445.531922 566.440209 \r\nL 445.813831 561.692312 \r\nL 446.095739 566.440209 \r\nL 450.324362 566.440209 \r\nL 450.60627 565.648893 \r\nL 450.888178 565.648893 \r\nL 451.170086 566.440209 \r\nL 451.451994 564.06626 \r\nL 451.733903 566.440209 \r\nL 452.015811 564.06626 \r\nL 452.297719 553.77915 \r\nL 452.579627 566.440209 \r\nL 452.861535 546.657305 \r\nL 453.143443 566.440209 \r\nL 453.425352 564.06626 \r\nL 453.70726 515.004659 \r\nL 453.989168 557.735731 \r\nL 454.271076 566.440209 \r\nL 454.552984 543.492041 \r\nL 454.834893 548.239937 \r\nL 455.116801 545.074673 \r\nL 455.398709 566.440209 \r\nL 455.680617 519.752556 \r\nL 455.962525 566.440209 \r\nL 456.244434 566.440209 \r\nL 456.80825 511.839395 \r\nL 457.090158 384.437495 \r\nL 457.372066 545.865989 \r\nL 457.653975 343.289056 \r\nL 457.935883 543.492041 \r\nL 458.217791 495.221756 \r\nL 458.499699 565.648893 \r\nL 458.781607 566.440209 \r\nL 459.063515 536.370195 \r\nL 459.345424 530.830982 \r\nL 459.627332 527.665718 \r\nL 459.90924 529.24835 \r\nL 460.191148 557.735731 \r\nL 460.473056 566.440209 \r\nL 460.754965 566.440209 \r\nL 461.036873 542.700724 \r\nL 461.318781 463.56911 \r\nL 461.600689 533.996247 \r\nL 461.882597 564.857577 \r\nL 462.164506 484.14333 \r\nL 462.446414 488.891226 \r\nL 462.728322 554.570467 \r\nL 463.01023 556.944415 \r\nL 463.292138 566.440209 \r\nL 463.574047 560.10968 \r\nL 463.855955 566.440209 \r\nL 464.137863 405.803031 \r\nL 464.419771 564.857577 \r\nL 464.983587 564.857577 \r\nL 465.265496 555.361783 \r\nL 465.547404 566.440209 \r\nL 465.829312 566.440209 \r\nL 466.11122 562.483628 \r\nL 466.393128 566.440209 \r\nL 466.675037 566.440209 \r\nL 466.956945 538.744144 \r\nL 467.238853 540.326776 \r\nL 467.520761 562.483628 \r\nL 467.802669 420.838038 \r\nL 468.084578 428.751199 \r\nL 468.366486 548.239937 \r\nL 468.648394 379.689598 \r\nL 468.930302 474.647536 \r\nL 469.21221 483.352013 \r\nL 469.494119 486.517278 \r\nL 469.776027 541.118092 \r\nL 470.057935 459.612529 \r\nL 470.339843 441.412258 \r\nL 470.621751 511.048079 \r\nL 471.185568 564.857577 \r\nL 471.467476 561.692312 \r\nL 472.031292 565.648893 \r\nL 472.3132 566.440209 \r\nL 472.595109 562.483628 \r\nL 472.877017 566.440209 \r\nL 475.132282 566.440209 \r\nL 475.414191 565.648893 \r\nL 475.978007 549.031254 \r\nL 476.259915 564.857577 \r\nL 476.541823 557.735731 \r\nL 476.823731 566.440209 \r\nL 477.10564 551.405202 \r\nL 477.669456 566.440209 \r\nL 477.951364 564.857577 \r\nL 478.233272 360.698011 \r\nL 478.515181 566.440209 \r\nL 478.797089 506.300182 \r\nL 479.078997 559.318364 \r\nL 479.360905 503.926233 \r\nL 479.642813 566.440209 \r\nL 479.924722 491.265175 \r\nL 480.20663 566.440209 \r\nL 480.488538 71.867617 \r\nL 480.770446 537.161511 \r\nL 481.052354 538.744144 \r\nL 481.334263 556.944415 \r\nL 481.616171 496.013072 \r\nL 481.898079 470.690955 \r\nL 482.179987 503.134917 \r\nL 482.461895 462.777794 \r\nL 483.025712 484.14333 \r\nL 483.30762 564.06626 \r\nL 483.589528 560.900996 \r\nL 483.871436 545.865989 \r\nL 484.153344 556.153099 \r\nL 484.435253 546.657305 \r\nL 484.717161 560.900996 \r\nL 484.999069 566.440209 \r\nL 485.280977 565.648893 \r\nL 485.562885 565.648893 \r\nL 485.844794 566.440209 \r\nL 486.126702 564.06626 \r\nL 486.40861 566.440209 \r\nL 486.690518 566.440209 \r\nL 486.972426 565.648893 \r\nL 487.536243 565.648893 \r\nL 487.818151 566.440209 \r\nL 488.381967 566.440209 \r\nL 488.663876 560.10968 \r\nL 488.945784 566.440209 \r\nL 489.5096 566.440209 \r\nL 489.791508 558.527047 \r\nL 490.073416 544.283357 \r\nL 490.355325 566.440209 \r\nL 492.328682 566.440209 \r\nL 492.61059 561.692312 \r\nL 492.892498 566.440209 \r\nL 493.174407 564.857577 \r\nL 493.456315 560.900996 \r\nL 493.738223 566.440209 \r\nL 494.020131 564.06626 \r\nL 494.302039 508.67413 \r\nL 494.583948 549.031254 \r\nL 494.865856 566.440209 \r\nL 495.147764 491.265175 \r\nL 495.429672 478.604117 \r\nL 495.71158 566.440209 \r\nL 495.993488 512.630711 \r\nL 496.275397 525.291769 \r\nL 496.557305 441.412258 \r\nL 496.839213 438.246993 \r\nL 497.121121 548.239937 \r\nL 497.403029 562.483628 \r\nL 497.684938 522.917821 \r\nL 497.966846 561.692312 \r\nL 498.248754 566.440209 \r\nL 498.530662 566.440209 \r\nL 499.094479 531.622298 \r\nL 499.376387 566.440209 \r\nL 499.658295 556.944415 \r\nL 499.940203 565.648893 \r\nL 500.222111 564.06626 \r\nL 500.50402 566.440209 \r\nL 500.785928 558.527047 \r\nL 501.067836 566.440209 \r\nL 501.349744 563.274944 \r\nL 501.91356 566.440209 \r\nL 502.195469 566.440209 \r\nL 502.477377 558.527047 \r\nL 502.759285 556.944415 \r\nL 503.041193 564.857577 \r\nL 503.323101 552.987834 \r\nL 503.60501 562.483628 \r\nL 503.886918 566.440209 \r\nL 504.168826 566.440209 \r\nL 504.450734 487.308594 \r\nL 504.732642 560.10968 \r\nL 505.014551 561.692312 \r\nL 505.296459 518.96124 \r\nL 505.578367 562.483628 \r\nL 505.860275 559.318364 \r\nL 506.142183 564.06626 \r\nL 506.424092 562.483628 \r\nL 506.987908 565.648893 \r\nL 507.269816 542.700724 \r\nL 507.551724 566.440209 \r\nL 507.833632 564.857577 \r\nL 508.115541 561.692312 \r\nL 508.397449 566.440209 \r\nL 508.679357 566.440209 \r\nL 508.961265 560.900996 \r\nL 509.243173 566.440209 \r\nL 509.525082 565.648893 \r\nL 509.80699 553.77915 \r\nL 510.088898 566.440209 \r\nL 510.370806 556.153099 \r\nL 510.652714 530.039666 \r\nL 510.934623 559.318364 \r\nL 511.216531 566.440209 \r\nL 511.780347 564.857577 \r\nL 512.344164 566.440209 \r\nL 512.626072 565.648893 \r\nL 512.90798 566.440209 \r\nL 513.189888 564.857577 \r\nL 513.753704 566.440209 \r\nL 514.599429 566.440209 \r\nL 514.881337 561.692312 \r\nL 515.163245 566.440209 \r\nL 515.445154 542.700724 \r\nL 515.727062 566.440209 \r\nL 516.00897 566.440209 \r\nL 516.290878 557.735731 \r\nL 516.572786 566.440209 \r\nL 516.854695 561.692312 \r\nL 517.136603 531.622298 \r\nL 517.418511 560.10968 \r\nL 517.700419 564.857577 \r\nL 517.982327 558.527047 \r\nL 518.264236 556.153099 \r\nL 518.546144 518.169924 \r\nL 518.828052 520.543872 \r\nL 519.10996 542.700724 \r\nL 519.391868 394.724605 \r\nL 519.673776 522.917821 \r\nL 519.955685 550.613886 \r\nL 520.237593 554.570467 \r\nL 520.519501 560.900996 \r\nL 520.801409 537.161511 \r\nL 521.083317 496.804388 \r\nL 521.365226 566.440209 \r\nL 521.647134 566.440209 \r\nL 521.929042 564.857577 \r\nL 522.21095 566.440209 \r\nL 522.492858 566.440209 \r\nL 522.774767 526.874402 \r\nL 523.056675 566.440209 \r\nL 523.338583 566.440209 \r\nL 523.620491 565.648893 \r\nL 523.902399 566.440209 \r\nL 524.466216 566.440209 \r\nL 524.748124 564.857577 \r\nL 525.030032 543.492041 \r\nL 525.31194 564.857577 \r\nL 525.593849 566.440209 \r\nL 525.875757 560.10968 \r\nL 526.157665 566.440209 \r\nL 526.439573 566.440209 \r\nL 526.721481 564.857577 \r\nL 527.003389 566.440209 \r\nL 527.285298 534.787563 \r\nL 527.567206 477.8128 \r\nL 527.849114 563.274944 \r\nL 528.694839 545.865989 \r\nL 528.976747 564.857577 \r\nL 529.258655 546.657305 \r\nL 529.540563 566.440209 \r\nL 529.822471 566.440209 \r\nL 530.10438 558.527047 \r\nL 530.386288 565.648893 \r\nL 530.668196 566.440209 \r\nL 530.950104 564.06626 \r\nL 531.232012 566.440209 \r\nL 532.077737 566.440209 \r\nL 532.359645 559.318364 \r\nL 532.641553 558.527047 \r\nL 532.923461 566.440209 \r\nL 533.20537 554.570467 \r\nL 533.487278 553.77915 \r\nL 533.769186 550.613886 \r\nL 534.051094 560.10968 \r\nL 534.333002 554.570467 \r\nL 534.614911 564.857577 \r\nL 534.896819 566.440209 \r\nL 535.178727 556.153099 \r\nL 535.460635 554.570467 \r\nL 535.742543 501.552285 \r\nL 536.024452 562.483628 \r\nL 536.30636 566.440209 \r\nL 536.588268 562.483628 \r\nL 536.870176 566.440209 \r\nL 537.152084 566.440209 \r\nL 537.433993 564.857577 \r\nL 537.997809 566.440209 \r\nL 541.098799 566.440209 \r\nL 541.380707 565.648893 \r\nL 541.662615 566.440209 \r\nL 542.226432 566.440209 \r\nL 542.790248 564.857577 \r\nL 543.072156 566.440209 \r\nL 543.917881 566.440209 \r\nL 544.199789 564.857577 \r\nL 544.481697 564.857577 \r\nL 544.763605 517.378608 \r\nL 545.045514 563.274944 \r\nL 545.327422 549.82257 \r\nL 545.60933 556.153099 \r\nL 545.891238 524.500453 \r\nL 546.173146 547.448621 \r\nL 546.455055 555.361783 \r\nL 546.736963 507.882814 \r\nL 547.018871 560.10968 \r\nL 547.300779 546.657305 \r\nL 547.582687 511.048079 \r\nL 547.864596 564.857577 \r\nL 548.428412 502.343601 \r\nL 548.71032 547.448621 \r\nL 548.992228 555.361783 \r\nL 549.274137 551.405202 \r\nL 549.556045 515.004659 \r\nL 549.837953 566.440209 \r\nL 550.119861 547.448621 \r\nL 550.401769 564.06626 \r\nL 550.683677 558.527047 \r\nL 550.965586 537.952828 \r\nL 551.247494 566.440209 \r\nL 551.529402 549.031254 \r\nL 551.81131 561.692312 \r\nL 552.093218 502.343601 \r\nL 552.375127 545.074673 \r\nL 552.657035 549.82257 \r\nL 552.938943 432.70778 \r\nL 553.220851 566.440209 \r\nL 553.784668 542.700724 \r\nL 554.066576 566.440209 \r\nL 554.348484 522.917821 \r\nL 554.630392 564.857577 \r\nL 554.9123 558.527047 \r\nL 555.194209 566.440209 \r\nL 555.476117 561.692312 \r\nL 555.758025 564.857577 \r\nL 556.039933 566.440209 \r\nL 556.321841 560.900996 \r\nL 556.603749 564.857577 \r\nL 556.885658 566.440209 \r\nL 557.167566 558.527047 \r\nL 557.449474 538.744144 \r\nL 557.731382 566.440209 \r\nL 558.01329 511.048079 \r\nL 558.295199 547.448621 \r\nL 558.577107 562.483628 \r\nL 558.859015 552.196518 \r\nL 559.140923 546.657305 \r\nL 559.422831 566.440209 \r\nL 559.986648 534.787563 \r\nL 560.268556 566.440209 \r\nL 560.550464 565.648893 \r\nL 561.114281 560.10968 \r\nL 561.396189 566.440209 \r\nL 561.678097 562.483628 \r\nL 561.960005 541.909408 \r\nL 562.523822 564.857577 \r\nL 562.80573 566.440209 \r\nL 563.087638 542.700724 \r\nL 563.369546 551.405202 \r\nL 563.651454 564.857577 \r\nL 563.933362 544.283357 \r\nL 564.215271 566.440209 \r\nL 564.497179 558.527047 \r\nL 564.779087 566.440209 \r\nL 565.060995 566.440209 \r\nL 565.342903 561.692312 \r\nL 565.624812 526.874402 \r\nL 565.90672 562.483628 \r\nL 566.188628 566.440209 \r\nL 566.470536 556.944415 \r\nL 566.752444 566.440209 \r\nL 567.034353 566.440209 \r\nL 567.316261 549.031254 \r\nL 567.598169 566.440209 \r\nL 567.880077 561.692312 \r\nL 568.161985 566.440209 \r\nL 568.443894 537.952828 \r\nL 568.725802 560.10968 \r\nL 569.00771 566.440209 \r\nL 569.289618 566.440209 \r\nL 569.571526 526.874402 \r\nL 569.853434 564.857577 \r\nL 570.417251 564.857577 \r\nL 570.699159 566.440209 \r\nL 570.981067 561.692312 \r\nL 571.262975 566.440209 \r\nL 571.544884 558.527047 \r\nL 571.826792 566.440209 \r\nL 572.390608 566.440209 \r\nL 572.672516 565.648893 \r\nL 572.954425 566.440209 \r\nL 573.236333 566.440209 \r\nL 573.518241 564.857577 \r\nL 573.800149 566.440209 \r\nL 574.082057 565.648893 \r\nL 574.363966 566.440209 \r\nL 574.645874 566.440209 \r\nL 574.927782 563.274944 \r\nL 575.20969 566.440209 \r\nL 575.491598 566.440209 \r\nL 575.773506 564.06626 \r\nL 576.055415 566.440209 \r\nL 576.337323 566.440209 \r\nL 576.619231 560.900996 \r\nL 576.901139 565.648893 \r\nL 577.183047 563.274944 \r\nL 577.464956 566.440209 \r\nL 578.028772 550.613886 \r\nL 578.31068 560.10968 \r\nL 578.592588 561.692312 \r\nL 578.874497 558.527047 \r\nL 579.156405 560.10968 \r\nL 579.438313 564.857577 \r\nL 579.720221 562.483628 \r\nL 580.002129 564.857577 \r\nL 580.284038 554.570467 \r\nL 580.565946 526.874402 \r\nL 580.847854 534.787563 \r\nL 581.129762 556.153099 \r\nL 581.41167 554.570467 \r\nL 581.693578 564.857577 \r\nL 581.975487 563.274944 \r\nL 582.257395 566.440209 \r\nL 582.539303 560.10968 \r\nL 582.821211 563.274944 \r\nL 583.103119 564.06626 \r\nL 583.385028 566.440209 \r\nL 584.794569 566.440209 \r\nL 585.076477 564.857577 \r\nL 585.358385 566.440209 \r\nL 585.640293 566.440209 \r\nL 585.922201 564.857577 \r\nL 586.20411 542.700724 \r\nL 586.486018 552.196518 \r\nL 586.767926 566.440209 \r\nL 587.331742 566.440209 \r\nL 587.61365 564.857577 \r\nL 587.895559 566.440209 \r\nL 588.177467 566.440209 \r\nL 588.459375 564.857577 \r\nL 588.741283 561.692312 \r\nL 589.023191 566.440209 \r\nL 589.587008 566.440209 \r\nL 589.868916 559.318364 \r\nL 590.150824 566.440209 \r\nL 590.432732 557.735731 \r\nL 590.714641 566.440209 \r\nL 590.996549 566.440209 \r\nL 591.278457 564.857577 \r\nL 591.560365 566.440209 \r\nL 591.842273 564.857577 \r\nL 592.124182 566.440209 \r\nL 592.40609 564.857577 \r\nL 592.969906 566.440209 \r\nL 593.815631 566.440209 \r\nL 594.097539 562.483628 \r\nL 594.379447 564.857577 \r\nL 594.661355 565.648893 \r\nL 594.943263 544.283357 \r\nL 595.225172 566.440209 \r\nL 595.50708 566.440209 \r\nL 595.788988 540.326776 \r\nL 596.070896 542.700724 \r\nL 596.352804 557.735731 \r\nL 596.634713 560.900996 \r\nL 596.916621 541.118092 \r\nL 597.198529 512.630711 \r\nL 597.480437 566.440209 \r\nL 597.762345 512.630711 \r\nL 598.044254 564.857577 \r\nL 598.326162 566.440209 \r\nL 598.60807 562.483628 \r\nL 598.889978 550.613886 \r\nL 599.171886 566.440209 \r\nL 599.453794 565.648893 \r\nL 599.735703 564.06626 \r\nL 600.017611 558.527047 \r\nL 600.299519 566.440209 \r\nL 600.581427 562.483628 \r\nL 600.863335 526.874402 \r\nL 601.145244 560.900996 \r\nL 601.427152 564.857577 \r\nL 601.70906 558.527047 \r\nL 601.990968 556.944415 \r\nL 602.272876 566.440209 \r\nL 602.836693 549.82257 \r\nL 603.118601 566.440209 \r\nL 603.400509 553.77915 \r\nL 603.682417 564.06626 \r\nL 603.964326 535.578879 \r\nL 604.246234 566.440209 \r\nL 604.528142 562.483628 \r\nL 604.81005 566.440209 \r\nL 605.091958 562.483628 \r\nL 605.373867 566.440209 \r\nL 605.655775 564.06626 \r\nL 605.937683 376.524334 \r\nL 606.219591 562.483628 \r\nL 606.501499 566.440209 \r\nL 606.783407 559.318364 \r\nL 607.065316 545.074673 \r\nL 607.347224 566.440209 \r\nL 607.629132 566.440209 \r\nL 607.91104 511.048079 \r\nL 608.192948 566.440209 \r\nL 608.474857 566.440209 \r\nL 608.756765 556.944415 \r\nL 609.038673 564.06626 \r\nL 609.320581 540.326776 \r\nL 609.602489 561.692312 \r\nL 610.166306 566.440209 \r\nL 610.448214 566.440209 \r\nL 610.730122 558.527047 \r\nL 611.01203 566.440209 \r\nL 611.575847 566.440209 \r\nL 611.857755 550.613886 \r\nL 612.139663 566.440209 \r\nL 612.421571 560.900996 \r\nL 612.703479 249.91375 \r\nL 612.985388 556.944415 \r\nL 613.267296 564.06626 \r\nL 613.549204 560.900996 \r\nL 613.831112 550.613886 \r\nL 614.11302 561.692312 \r\nL 614.394929 566.440209 \r\nL 614.676837 503.134917 \r\nL 614.958745 499.969653 \r\nL 615.240653 472.273587 \r\nL 615.80447 562.483628 \r\nL 616.086378 518.169924 \r\nL 616.368286 562.483628 \r\nL 616.650194 564.06626 \r\nL 616.932102 556.944415 \r\nL 617.214011 542.700724 \r\nL 617.495919 566.440209 \r\nL 617.777827 557.735731 \r\nL 618.059735 566.440209 \r\nL 618.341643 542.700724 \r\nL 618.623551 561.692312 \r\nL 618.90546 566.440209 \r\nL 619.187368 556.944415 \r\nL 619.469276 564.857577 \r\nL 619.751184 566.440209 \r\nL 620.596909 566.440209 \r\nL 620.878817 565.648893 \r\nL 621.160725 566.440209 \r\nL 621.442633 566.440209 \r\nL 621.724542 556.153099 \r\nL 622.00645 534.787563 \r\nL 622.288358 566.440209 \r\nL 622.570266 555.361783 \r\nL 622.852174 559.318364 \r\nL 623.134083 566.440209 \r\nL 623.697899 564.857577 \r\nL 623.979807 561.692312 \r\nL 624.261715 548.239937 \r\nL 624.543623 566.440209 \r\nL 624.825532 542.700724 \r\nL 625.10744 566.440209 \r\nL 625.389348 542.700724 \r\nL 625.671256 566.440209 \r\nL 627.926522 566.440209 \r\nL 628.20843 564.857577 \r\nL 628.490338 556.944415 \r\nL 628.772246 566.440209 \r\nL 629.054155 566.440209 \r\nL 629.336063 546.657305 \r\nL 629.617971 562.483628 \r\nL 629.899879 566.440209 \r\nL 630.181787 565.648893 \r\nL 630.463695 566.440209 \r\nL 630.745604 561.692312 \r\nL 631.027512 566.440209 \r\nL 631.30942 566.440209 \r\nL 631.591328 563.274944 \r\nL 631.873236 566.440209 \r\nL 632.155145 564.857577 \r\nL 632.437053 566.440209 \r\nL 632.718961 561.692312 \r\nL 633.000869 566.440209 \r\nL 634.128502 566.440209 \r\nL 634.41041 562.483628 \r\nL 634.692318 566.440209 \r\nL 635.256135 566.440209 \r\nL 635.538043 539.53546 \r\nL 635.819951 566.440209 \r\nL 636.101859 558.527047 \r\nL 636.383767 566.440209 \r\nL 636.665676 566.440209 \r\nL 636.947584 554.570467 \r\nL 637.229492 566.440209 \r\nL 637.5114 560.900996 \r\nL 637.793308 566.440209 \r\nL 639.202849 566.440209 \r\nL 639.484758 555.361783 \r\nL 639.766666 566.440209 \r\nL 640.61239 566.440209 \r\nL 640.894299 560.10968 \r\nL 641.176207 565.648893 \r\nL 641.458115 549.031254 \r\nL 641.740023 566.440209 \r\nL 642.021931 566.440209 \r\nL 642.30384 561.692312 \r\nL 642.585748 533.204931 \r\nL 642.867656 541.118092 \r\nL 643.149564 566.440209 \r\nL 643.431472 564.857577 \r\nL 643.71338 533.204931 \r\nL 643.995289 556.944415 \r\nL 644.277197 560.900996 \r\nL 644.559105 566.440209 \r\nL 644.841013 556.153099 \r\nL 645.122921 565.648893 \r\nL 645.40483 566.440209 \r\nL 645.686738 562.483628 \r\nL 645.968646 561.692312 \r\nL 646.250554 566.440209 \r\nL 646.814371 566.440209 \r\nL 647.096279 559.318364 \r\nL 647.378187 566.440209 \r\nL 647.660095 566.440209 \r\nL 647.942003 565.648893 \r\nL 648.223912 522.126505 \r\nL 648.50582 564.857577 \r\nL 648.787728 566.440209 \r\nL 649.069636 566.440209 \r\nL 649.351544 526.874402 \r\nL 649.633452 566.440209 \r\nL 650.197269 566.440209 \r\nL 650.479177 560.10968 \r\nL 650.761085 530.830982 \r\nL 650.761085 530.830982 \r\n\" style=\"fill:none;stroke:#008fd5;stroke-width:4;\"/>\r\n   </g>\r\n   <g id=\"patch_3\">\r\n    <path d=\"M 52.833813 592.9493 \r\nL 52.833813 9.7493 \r\n\" style=\"fill:none;stroke:#f0f0f0;stroke-linecap:square;stroke-linejoin:miter;stroke-width:3;\"/>\r\n   </g>\r\n   <g id=\"patch_4\">\r\n    <path d=\"M 679.233812 592.9493 \r\nL 679.233812 9.7493 \r\n\" style=\"fill:none;stroke:#f0f0f0;stroke-linecap:square;stroke-linejoin:miter;stroke-width:3;\"/>\r\n   </g>\r\n   <g id=\"patch_5\">\r\n    <path d=\"M 52.833813 592.9493 \r\nL 679.233812 592.9493 \r\n\" style=\"fill:none;stroke:#f0f0f0;stroke-linecap:square;stroke-linejoin:miter;stroke-width:3;\"/>\r\n   </g>\r\n   <g id=\"patch_6\">\r\n    <path d=\"M 52.833813 9.7493 \r\nL 679.233812 9.7493 \r\n\" style=\"fill:none;stroke:#f0f0f0;stroke-linecap:square;stroke-linejoin:miter;stroke-width:3;\"/>\r\n   </g>\r\n   <g id=\"legend_1\">\r\n    <g id=\"patch_7\">\r\n     <path d=\"M 537.133812 41.498675 \r\nL 669.433812 41.498675 \r\nQ 672.233812 41.498675 672.233812 38.698675 \r\nL 672.233812 19.5493 \r\nQ 672.233812 16.7493 669.433812 16.7493 \r\nL 537.133812 16.7493 \r\nQ 534.333812 16.7493 534.333812 19.5493 \r\nL 534.333812 38.698675 \r\nQ 534.333812 41.498675 537.133812 41.498675 \r\nz\r\n\" style=\"fill:#f0f0f0;opacity:0.8;stroke:#cccccc;stroke-linejoin:miter;stroke-width:0.5;\"/>\r\n    </g>\r\n    <g id=\"line2d_36\">\r\n     <path d=\"M 539.933812 28.087112 \r\nL 567.933812 28.087112 \r\n\" style=\"fill:none;stroke:#008fd5;stroke-width:4;\"/>\r\n    </g>\r\n    <g id=\"line2d_37\"/>\r\n    <g id=\"text_20\">\r\n     <!-- Precipitation -->\r\n     <g transform=\"translate(579.133812 32.987112)scale(0.14 -0.14)\">\r\n      <use xlink:href=\"#DejaVuSans-80\"/>\r\n      <use x=\"58.552734\" xlink:href=\"#DejaVuSans-114\"/>\r\n      <use x=\"97.416016\" xlink:href=\"#DejaVuSans-101\"/>\r\n      <use x=\"158.939453\" xlink:href=\"#DejaVuSans-99\"/>\r\n      <use x=\"213.919922\" xlink:href=\"#DejaVuSans-105\"/>\r\n      <use x=\"241.703125\" xlink:href=\"#DejaVuSans-112\"/>\r\n      <use x=\"305.179688\" xlink:href=\"#DejaVuSans-105\"/>\r\n      <use x=\"332.962891\" xlink:href=\"#DejaVuSans-116\"/>\r\n      <use x=\"372.171875\" xlink:href=\"#DejaVuSans-97\"/>\r\n      <use x=\"433.451172\" xlink:href=\"#DejaVuSans-116\"/>\r\n      <use x=\"472.660156\" xlink:href=\"#DejaVuSans-105\"/>\r\n      <use x=\"500.443359\" xlink:href=\"#DejaVuSans-111\"/>\r\n      <use x=\"561.625\" xlink:href=\"#DejaVuSans-110\"/>\r\n     </g>\r\n    </g>\r\n   </g>\r\n  </g>\r\n </g>\r\n <defs>\r\n  <clipPath id=\"pd425cdf9fd\">\r\n   <rect height=\"583.2\" width=\"626.4\" x=\"52.833813\" y=\"9.7493\"/>\r\n  </clipPath>\r\n </defs>\r\n</svg>\r\n",
      "image/png": "[encoded data removed]"
     },
     "metadata": {}
    }
   ],
   "source": [
    "# Use Pandas Plotting with Matplotlib to plot the data\n",
    "twelve_month_prcp.plot(rot=90, figsize=(10,10))\n",
    "plt.legend(loc='upper right')\n",
    "plt.ylabel('Precipitation (inches)\\n',fontsize=14)\n",
    "plt.xlabel('\\nDates', fontsize=14)\n",
    "plt.savefig('../Images/precipitation.png')\n",
    "plt.show()"
   ]
  },
  {
   "cell_type": "code",
   "execution_count": 24,
   "metadata": {},
   "outputs": [
    {
     "output_type": "stream",
     "name": "stdout",
     "text": [
      "The Summary Statistics for Precipitation are:\n\n       Precipitation\ncount    2021.000000\nmean        0.177279\nstd         0.461190\nmin         0.000000\n25%         0.000000\n50%         0.020000\n75%         0.130000\nmax         6.700000\n"
     ]
    }
   ],
   "source": [
    "# Use Pandas to calcualte the summary statistics for the precipitation data\n",
    "summary_statistics_precipitation = twelve_month_prcp.describe()\n",
    "\n",
    "print(f'The Summary Statistics for Precipitation are:\\n\\n{summary_statistics_precipitation}')"
   ]
  },
  {
   "cell_type": "code",
   "execution_count": 25,
   "metadata": {},
   "outputs": [
    {
     "output_type": "stream",
     "name": "stdout",
     "text": [
      "The total number of stations in the dataset is 9 Stations\n"
     ]
    }
   ],
   "source": [
    "# Design a query to show how many stations are available in this dataset?\n",
    "stations_count = session.query(func.count(Station.station)).all()\n",
    "\n",
    "for c in stations_count:\n",
    "    print(f'The total number of stations in the dataset is {c[0]} Stations')\n",
    "\n"
   ]
  },
  {
   "cell_type": "code",
   "execution_count": 26,
   "metadata": {},
   "outputs": [],
   "source": [
    "# What are the most active stations? (i.e. what stations have the most rows)?\n",
    "active_station_count = session.query(Measurement.station, func.count(Measurement.station)).\\\n",
    "    group_by(Measurement.station).\\\n",
    "        order_by(func.count(Measurement.station).desc()).all()\n"
   ]
  },
  {
   "cell_type": "code",
   "execution_count": 27,
   "metadata": {},
   "outputs": [
    {
     "output_type": "stream",
     "name": "stdout",
     "text": [
      "Station ID - USC00519281| Count = 2772\n\nStation ID - USC00519397| Count = 2724\n\nStation ID - USC00513117| Count = 2709\n\nStation ID - USC00519523| Count = 2669\n\nStation ID - USC00516128| Count = 2612\n\nStation ID - USC00514830| Count = 2202\n\nStation ID - USC00511918| Count = 1979\n\nStation ID - USC00517948| Count = 1372\n\nStation ID - USC00518838| Count = 511\n\n"
     ]
    }
   ],
   "source": [
    "# List the stations and the counts in descending order.\n",
    "for asc in active_station_count:\n",
    "    print((f'Station ID - {asc[0]}| Count = {asc[1]}\\n'))\n",
    "    "
   ]
  },
  {
   "cell_type": "code",
   "execution_count": 28,
   "metadata": {},
   "outputs": [
    {
     "output_type": "stream",
     "name": "stdout",
     "text": [
      "The Lowest Recorded Temperature is 54.0\n\nThe Maximum Recorded Temperature is 85.0\n\nThe Average Temperature for Station USC00519523 is 71.66\n"
     ]
    }
   ],
   "source": [
    "# Using the station id from the previous query, calculate the lowest temperature recorded,\n",
    "# highest temperature recorded, and average temperature of the most active station?\n",
    "\n",
    "sel1 = [func.min(Measurement.tobs), func.max(Measurement.tobs),func.avg(Measurement.tobs)]\n",
    "\n",
    "active_station_analysis = session.query(*sel1).\\\n",
    "    group_by(Measurement.station).\\\n",
    "        order_by(func.count(Measurement.station).desc()).first()\n",
    "\n",
    "\n",
    "print(f'The Lowest Recorded Temperature is {active_station_analysis[0]}\\n\\nThe Maximum Recorded Temperature is {active_station_analysis[1]}\\n\\nThe Average Temperature for Station {max(active_station_count)[0]} is {round(active_station_analysis[2],2)}')"
   ]
  },
  {
   "cell_type": "code",
   "execution_count": 29,
   "metadata": {},
   "outputs": [],
   "source": [
    "# Choose the station with the highest number of temperature observations.\n",
    "USC00519281"
   ]
  },
  {
   "cell_type": "code",
   "execution_count": 30,
   "metadata": {},
   "outputs": [],
   "source": [
    "# Query the last 12 months of temperature observation data for this station and plot the results as a histogram\n",
    "\n"
   ]
  },
  {
   "cell_type": "code",
   "execution_count": 31,
   "metadata": {},
   "outputs": [],
   "source": [
    "# Converting Query to a Pandas Dataframe\n",
    "\n",
    "\n",
    "# Plotting the Histogram\n"
   ]
  },
  {
   "cell_type": "code",
   "execution_count": null,
   "metadata": {},
   "outputs": [],
   "source": []
  },
  {
   "cell_type": "code",
   "execution_count": null,
   "metadata": {},
   "outputs": [],
   "source": []
  },
  {
   "cell_type": "markdown",
   "metadata": {},
   "source": [
    "## Bonus Challenge Assignment"
   ]
  },
  {
   "cell_type": "code",
   "execution_count": 32,
   "metadata": {},
   "outputs": [
    {
     "output_type": "stream",
     "name": "stdout",
     "text": [
      "[(62.0, 69.57142857142857, 74.0)]\n"
     ]
    }
   ],
   "source": [
    "# This function called `calc_temps` will accept start date and end date in the format '%Y-%m-%d' \n",
    "# and return the minimum, average, and maximum temperatures for that range of dates\n",
    "def calc_temps(start_date, end_date):\n",
    "    \"\"\"TMIN, TAVG, and TMAX for a list of dates.\n",
    "    \n",
    "    Args:\n",
    "        start_date (string): A date string in the format %Y-%m-%d\n",
    "        end_date (string): A date string in the format %Y-%m-%d\n",
    "        \n",
    "    Returns:\n",
    "        TMIN, TAVE, and TMAX\n",
    "    \"\"\"\n",
    "    \n",
    "    return session.query(func.min(Measurement.tobs), func.avg(Measurement.tobs), func.max(Measurement.tobs)).\\\n",
    "        filter(Measurement.date >= start_date).filter(Measurement.date <= end_date).all()\n",
    "\n",
    "# function usage example\n",
    "print(calc_temps('2012-02-28', '2012-03-05'))"
   ]
  },
  {
   "cell_type": "code",
   "execution_count": 33,
   "metadata": {},
   "outputs": [],
   "source": [
    "# Use your previous function `calc_temps` to calculate the tmin, tavg, and tmax \n",
    "# for your trip using the previous year's data for those same dates.\n"
   ]
  },
  {
   "cell_type": "code",
   "execution_count": 34,
   "metadata": {},
   "outputs": [],
   "source": [
    "# Plot the results from your previous query as a bar chart. \n",
    "# Use \"Trip Avg Temp\" as your Title\n",
    "# Use the average temperature for the y value\n",
    "# Use the peak-to-peak (tmax-tmin) value as the y error bar (yerr)\n"
   ]
  },
  {
   "cell_type": "code",
   "execution_count": 35,
   "metadata": {},
   "outputs": [],
   "source": [
    "# Calculate the total amount of rainfall per weather station for your trip dates using the previous year's matching dates.\n",
    "# Sort this in descending order by precipitation amount and list the station, name, latitude, longitude, and elevation\n",
    "\n"
   ]
  },
  {
   "cell_type": "code",
   "execution_count": 36,
   "metadata": {},
   "outputs": [
    {
     "output_type": "execute_result",
     "data": {
      "text/plain": [
       "[(62.0, 69.15384615384616, 77.0)]"
      ]
     },
     "metadata": {},
     "execution_count": 36
    }
   ],
   "source": [
    "# Create a query that will calculate the daily normals \n",
    "# (i.e. the averages for tmin, tmax, and tavg for all historic data matching a specific month and day)\n",
    "\n",
    "def daily_normals(date):\n",
    "    \"\"\"Daily Normals.\n",
    "    \n",
    "    Args:\n",
    "        date (str): A date string in the format '%m-%d'\n",
    "        \n",
    "    Returns:\n",
    "        A list of tuples containing the daily normals, tmin, tavg, and tmax\n",
    "    \n",
    "    \"\"\"\n",
    "    \n",
    "    sel = [func.min(Measurement.tobs), func.avg(Measurement.tobs), func.max(Measurement.tobs)]\n",
    "    return session.query(*sel).filter(func.strftime(\"%m-%d\", Measurement.date) == date).all()\n",
    "    \n",
    "daily_normals(\"01-01\")"
   ]
  },
  {
   "cell_type": "code",
   "execution_count": 37,
   "metadata": {},
   "outputs": [],
   "source": [
    "# calculate the daily normals for your trip\n",
    "# push each tuple of calculations into a list called `normals`\n",
    "\n",
    "# Set the start and end date of the trip\n",
    "\n",
    "# Use the start and end date to create a range of dates\n",
    "\n",
    "# Stip off the year and save a list of %m-%d strings\n",
    "\n",
    "# Loop through the list of %m-%d strings and calculate the normals for each date\n"
   ]
  },
  {
   "cell_type": "code",
   "execution_count": 38,
   "metadata": {},
   "outputs": [],
   "source": [
    "# Load the previous query results into a Pandas DataFrame and add the `trip_dates` range as the `date` index\n"
   ]
  },
  {
   "cell_type": "code",
   "execution_count": 39,
   "metadata": {},
   "outputs": [],
   "source": [
    "# Plot the daily normals as an area plot with `stacked=False`\n"
   ]
  }
 ],
 "metadata": {
  "kernel_info": {
   "name": "python3"
  },
  "kernelspec": {
   "name": "Python 3.6.12 64-bit ('SQLAlchemyProject': conda)",
   "display_name": "Python 3.6.12 64-bit ('SQLAlchemyProject': conda)",
   "metadata": {
    "interpreter": {
     "hash": "f7e8eea10f3237b96b8f56b15f5d7edc1bd77643d9a75f29185e9a762ea03b8d"
    }
   }
  },
  "language_info": {
   "codemirror_mode": {
    "name": "ipython",
    "version": 3
   },
   "file_extension": ".py",
   "mimetype": "text/x-python",
   "name": "python",
   "nbconvert_exporter": "python",
   "pygments_lexer": "ipython3",
   "version": "3.6.12-final"
  },
  "nteract": {
   "version": "0.12.3"
  },
  "varInspector": {
   "cols": {
    "lenName": 16,
    "lenType": 16,
    "lenVar": 40
   },
   "kernels_config": {
    "python": {
     "delete_cmd_postfix": "",
     "delete_cmd_prefix": "del ",
     "library": "var_list.py",
     "varRefreshCmd": "print(var_dic_list())"
    },
    "r": {
     "delete_cmd_postfix": ") ",
     "delete_cmd_prefix": "rm(",
     "library": "var_list.r",
     "varRefreshCmd": "cat(var_dic_list()) "
    }
   },
   "types_to_exclude": [
    "module",
    "function",
    "builtin_function_or_method",
    "instance",
    "_Feature"
   ],
   "window_display": false
  }
 },
 "nbformat": 4,
 "nbformat_minor": 2
}